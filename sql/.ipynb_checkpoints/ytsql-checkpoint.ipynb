{
 "metadata": {
  "kernelspec": {
   "name": "python3",
   "language": "python",
   "display_name": "Python 3 (ipykernel)"
  },
  "language_info": {
   "name": "sql",
   "version": ""
  }
 },
 "nbformat_minor": 2,
 "nbformat": 4,
 "cells": [
  {
   "cell_type": "code",
   "outputs": [
    {
     "ename": "Exception",
     "evalue": "[S0002][208] Line 1: Invalid object name 'channel_statistics'.",
     "output_type": "error",
     "traceback": [
      "\u001B[1;31m---------------------------------------------------------------------------\u001B[0m",
      "\u001B[1;31mException\u001B[0m                                 Traceback (most recent call last)",
      "Cell \u001B[1;32mIn[2], line 1\u001B[0m\n\u001B[1;32m----> 1\u001B[0m \u001B[38;5;28;01mraise\u001B[39;00m \u001B[38;5;167;01mException\u001B[39;00m(\u001B[38;5;28m__import__\u001B[39m(\u001B[38;5;124m'\u001B[39m\u001B[38;5;124mbase64\u001B[39m\u001B[38;5;124m'\u001B[39m)\u001B[38;5;241m.\u001B[39mb64decode(\u001B[38;5;124m'\u001B[39m\u001B[38;5;124mW1MwMDAyXVsyMDhdIExpbmUgMTogSW52YWxpZCBvYmplY3QgbmFtZSAnY2hhbm5lbF9zdGF0aXN0aWNzJy4=\u001B[39m\u001B[38;5;124m'\u001B[39m)\u001B[38;5;241m.\u001B[39mdecode(\u001B[38;5;124m'\u001B[39m\u001B[38;5;124mutf-8\u001B[39m\u001B[38;5;124m'\u001B[39m))\n",
      "\u001B[1;31mException\u001B[0m: [S0002][208] Line 1: Invalid object name 'channel_statistics'."
     ]
    }
   ],
   "source": [
    "%%sql\n",
    "SELECT * FROM channel_statistics;"
   ],
   "metadata": {
    "collapsed": false,
    "SqlCellData": {
     "data_source_name": "youtube",
     "variableName$1": "df_sql"
    },
    "ExecuteTime": {
     "end_time": "2024-09-07T15:13:21.080108Z",
     "start_time": "2024-09-07T15:13:20.921584700Z"
    }
   },
   "execution_count": 2
  },
  {
   "cell_type": "code",
   "outputs": [],
   "source": [
    "%%sql\n",
    "DELETE \n",
    "    FROM channel_statistics\n",
    "WHERE \n",
    "    Subscribers = 0;"
   ],
   "metadata": {
    "collapsed": false,
    "SqlCellData": {
     "data_source_name": "youtube",
     "variableName$1": "df_sql1"
    }
   }
  },
  {
   "cell_type": "code",
   "outputs": [],
   "source": [
    "CREATE VIEW view_channel_statistics as\n",
    "\n",
    "SELECT \n",
    "    CAST(SUBSTRING(Name, 1, CHARINDEX ('@', Name) -1 ) AS VARCHAR(100)) AS channel_name,\n",
    "    Subscribers,\n",
    "    TotalVideos,\n",
    "    TotalViews\n",
    "FROM \n",
    "    channel_statistics;"
   ],
   "metadata": {
    "collapsed": false
   }
  },
  {
   "cell_type": "markdown",
   "source": [
    "# \\# Data Quality Check"
   ],
   "metadata": {
    "collapsed": false
   }
  },
  {
   "cell_type": "code",
   "outputs": [],
   "source": [
    "SELECT \n",
    "    COUNT(*) AS no_of_rows\n",
    "FROM \n",
    "    view_channel_statistics;\n",
    "\n",
    "-- 95 counts mean 5 channel data was not found.\n",
    "\n",
    "SELECT \n",
    "    COUNT(*) AS column_count\n",
    "FROM\n",
    "    INFORMATION_SCHEMA.COLUMNS\n",
    "WHERE \n",
    "    TABLE_NAME = 'view_channel_statistics';\n",
    "\n",
    "-- Data type check\n",
    "\n",
    "SELECT \n",
    "    COLUMN_NAME,\n",
    "    DATA_TYPE\n",
    "FROM\n",
    "    INFORMATION_SCHEMA.COLUMNS\n",
    "WHERE \n",
    "    TABLE_NAME = 'view_channel_statistics';\n",
    "\n",
    "-- Duplicate record check\n",
    "\n",
    "SELECT \n",
    "    channel_name,\n",
    "    COUNT(*) as duplicate_count\n",
    "FROM\n",
    "    view_channel_statistics\n",
    "GROUP BY\n",
    "    channel_name\n",
    "HAVING\n",
    "    COUNT(*) > 1"
   ],
   "metadata": {
    "collapsed": false
   }
  },
  {
   "cell_type": "code",
   "outputs": [],
   "source": [],
   "metadata": {
    "collapsed": false
   }
  }
 ]
}
