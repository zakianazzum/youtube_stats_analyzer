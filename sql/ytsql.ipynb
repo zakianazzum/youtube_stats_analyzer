{
    "metadata": {
        "kernelspec": {
            "name": "SQL",
            "display_name": "SQL",
            "language": "sql"
        },
        "language_info": {
            "name": "sql",
            "version": ""
        }
    },
    "nbformat_minor": 2,
    "nbformat": 4,
    "cells": [
        {
            "cell_type": "code",
            "source": [
                "SELECT * FROM channel_statistics;"
            ],
            "metadata": {
                "azdata_cell_guid": "2ed39c2b-e27c-462e-9b5d-c9e0d6400e33",
                "language": "sql"
            },
            "outputs": [
                {
                    "output_type": "display_data",
                    "data": {
                        "text/html": "(100 rows affected)"
                    },
                    "metadata": {}
                },
                {
                    "output_type": "display_data",
                    "data": {
                        "text/html": "Total execution time: 00:00:00.005"
                    },
                    "metadata": {}
                },
                {
                    "output_type": "execute_result",
                    "metadata": {},
                    "execution_count": 1,
                    "data": {
                        "application/vnd.dataresource+json": {
                            "schema": {
                                "fields": [
                                    {
                                        "name": "Name"
                                    },
                                    {
                                        "name": "SEGUIDORES"
                                    },
                                    {
                                        "name": "TP"
                                    },
                                    {
                                        "name": "PAÍS"
                                    },
                                    {
                                        "name": "TEMA_DE_INFLUENCIA"
                                    },
                                    {
                                        "name": "ALCANCE_POTENCIAL"
                                    },
                                    {
                                        "name": "GUARDAR"
                                    },
                                    {
                                        "name": "INVITAR_A_LA_CAMPAÑA"
                                    },
                                    {
                                        "name": "Subscribers"
                                    },
                                    {
                                        "name": "TotalViews"
                                    },
                                    {
                                        "name": "TotalVideos"
                                    }
                                ]
                            },
                            "data": [
                                {
                                    "Name": "NoCopyrightSounds @UC_aEa8K-EOJ3D6gOs7HcyNg",
                                    "SEGUIDORES": "32.9M",
                                    "TP": "-",
                                    "PAÍS": "Reino Unido",
                                    "TEMA_DE_INFLUENCIA": "Música",
                                    "ALCANCE_POTENCIAL": "9.9M",
                                    "GUARDAR": "NULL",
                                    "INVITAR_A_LA_CAMPAÑA": "Ver Perfil",
                                    "Subscribers": "33800000",
                                    "TotalViews": "11293031910",
                                    "TotalVideos": "1775"
                                },
                                {
                                    "Name": "DanTDM @UCS5Oz6CHmeoF7vSad0qqXfw",
                                    "SEGUIDORES": "26.3M",
                                    "TP": "-",
                                    "PAÍS": "Reino Unido",
                                    "TEMA_DE_INFLUENCIA": "NULL",
                                    "ALCANCE_POTENCIAL": "7.9M",
                                    "GUARDAR": "NULL",
                                    "INVITAR_A_LA_CAMPAÑA": "Ver Perfil",
                                    "Subscribers": "28900000",
                                    "TotalViews": "19958839607",
                                    "TotalVideos": "3725"
                                },
                                {
                                    "Name": "KSI @UCVtFOytbRpEvzLjvqGG5gxQ",
                                    "SEGUIDORES": "24M",
                                    "TP": "-",
                                    "PAÍS": "Reino Unido",
                                    "TEMA_DE_INFLUENCIA": "NULL",
                                    "ALCANCE_POTENCIAL": "7.2M",
                                    "GUARDAR": "NULL",
                                    "INVITAR_A_LA_CAMPAÑA": "Ver Perfil",
                                    "Subscribers": "24100000",
                                    "TotalViews": "6015064768",
                                    "TotalVideos": "1253"
                                },
                                {
                                    "Name": "Mister Max @UC_8PAD0Qmi6_gpe77S1Atgg",
                                    "SEGUIDORES": "23M",
                                    "TP": "0.10%",
                                    "PAÍS": "Reino Unido",
                                    "TEMA_DE_INFLUENCIA": "NULL",
                                    "ALCANCE_POTENCIAL": "6.9M",
                                    "GUARDAR": "NULL",
                                    "INVITAR_A_LA_CAMPAÑA": "Ver Perfil",
                                    "Subscribers": "24700000",
                                    "TotalViews": "16210271506",
                                    "TotalVideos": "1160"
                                },
                                {
                                    "Name": "Jelly @UC0DZmkupLYwc0yDsfocLh0A",
                                    "SEGUIDORES": "22.9M",
                                    "TP": "-",
                                    "PAÍS": "Reino Unido",
                                    "TEMA_DE_INFLUENCIA": "NULL",
                                    "ALCANCE_POTENCIAL": "6.9M",
                                    "GUARDAR": "NULL",
                                    "INVITAR_A_LA_CAMPAÑA": "Ver Perfil",
                                    "Subscribers": "23600000",
                                    "TotalViews": "15175766006",
                                    "TotalVideos": "6550"
                                },
                                {
                                    "Name": "Miss Katy @UCcartHVtvAUzfajflyeT_Gg",
                                    "SEGUIDORES": "22.6M",
                                    "TP": "-",
                                    "PAÍS": "Reino Unido",
                                    "TEMA_DE_INFLUENCIA": "NULL",
                                    "ALCANCE_POTENCIAL": "6.8M",
                                    "GUARDAR": "NULL",
                                    "INVITAR_A_LA_CAMPAÑA": "Ver Perfil",
                                    "Subscribers": "24900000",
                                    "TotalViews": "15845372343",
                                    "TotalVideos": "1109"
                                },
                                {
                                    "Name": "Dua Lipa @UC-J-KZfRV8c13fOCkhXdLiQ",
                                    "SEGUIDORES": "21.1M",
                                    "TP": "-",
                                    "PAÍS": "Reino Unido",
                                    "TEMA_DE_INFLUENCIA": "NULL",
                                    "ALCANCE_POTENCIAL": "6.3M",
                                    "GUARDAR": "NULL",
                                    "INVITAR_A_LA_CAMPAÑA": "Ver Perfil",
                                    "Subscribers": "23700000",
                                    "TotalViews": "13585807265",
                                    "TotalVideos": "280"
                                },
                                {
                                    "Name": "Dan Rhodes @UC6D1L2vxEAg_Vi0JSxMBDgA",
                                    "SEGUIDORES": "17.7M",
                                    "TP": "0.30%",
                                    "PAÍS": "Reino Unido",
                                    "TEMA_DE_INFLUENCIA": "NULL",
                                    "ALCANCE_POTENCIAL": "5.3M",
                                    "GUARDAR": "NULL",
                                    "INVITAR_A_LA_CAMPAÑA": "Ver Perfil",
                                    "Subscribers": "27200000",
                                    "TotalViews": "19047859769",
                                    "TotalVideos": "1670"
                                },
                                {
                                    "Name": "Ali-A @UCYVinkwSX7szARULgYpvhLw",
                                    "SEGUIDORES": "17.7M",
                                    "TP": "-",
                                    "PAÍS": "Reino Unido",
                                    "TEMA_DE_INFLUENCIA": "NULL",
                                    "ALCANCE_POTENCIAL": "5.3M",
                                    "GUARDAR": "NULL",
                                    "INVITAR_A_LA_CAMPAÑA": "Ver Perfil",
                                    "Subscribers": "19100000",
                                    "TotalViews": "6606237538",
                                    "TotalVideos": "4432"
                                },
                                {
                                    "Name": "Gaby and Alex @UCHwBjRoGO1V-H8QYXjSVHkQ",
                                    "SEGUIDORES": "17M",
                                    "TP": "-",
                                    "PAÍS": "Reino Unido",
                                    "TEMA_DE_INFLUENCIA": "NULL",
                                    "ALCANCE_POTENCIAL": "5.1M",
                                    "GUARDAR": "NULL",
                                    "INVITAR_A_LA_CAMPAÑA": "Ver Perfil",
                                    "Subscribers": "17200000",
                                    "TotalViews": "8809325122",
                                    "TotalVideos": "368"
                                },
                                {
                                    "Name": "Sidemen @sidemen",
                                    "SEGUIDORES": "17M",
                                    "TP": "2.80%",
                                    "PAÍS": "Reino Unido",
                                    "TEMA_DE_INFLUENCIA": "NULL",
                                    "ALCANCE_POTENCIAL": "5.1M",
                                    "GUARDAR": "NULL",
                                    "INVITAR_A_LA_CAMPAÑA": "Ver Perfil",
                                    "Subscribers": "0",
                                    "TotalViews": "0",
                                    "TotalVideos": "0"
                                },
                                {
                                    "Name": "Queen Official @UCiMhD4jzUqG-IgPzUmmytRQ",
                                    "SEGUIDORES": "16.3M",
                                    "TP": "-",
                                    "PAÍS": "Reino Unido",
                                    "TEMA_DE_INFLUENCIA": "NULL",
                                    "ALCANCE_POTENCIAL": "4.9M",
                                    "GUARDAR": "NULL",
                                    "INVITAR_A_LA_CAMPAÑA": "Ver Perfil",
                                    "Subscribers": "17900000",
                                    "TotalViews": "11631611499",
                                    "TotalVideos": "1223"
                                },
                                {
                                    "Name": "Little Mix @UCIvqWqjC4aLvp7zI8hzARrA",
                                    "SEGUIDORES": "16.1M",
                                    "TP": "-",
                                    "PAÍS": "Reino Unido",
                                    "TEMA_DE_INFLUENCIA": "NULL",
                                    "ALCANCE_POTENCIAL": "4.8M",
                                    "GUARDAR": "NULL",
                                    "INVITAR_A_LA_CAMPAÑA": "Ver Perfil",
                                    "Subscribers": "16400000",
                                    "TotalViews": "7996501022",
                                    "TotalVideos": "278"
                                },
                                {
                                    "Name": "JJ Olatunji @UCGmnsW623G1r-Chmo5RB4Yw",
                                    "SEGUIDORES": "15.9M",
                                    "TP": "-",
                                    "PAÍS": "Reino Unido",
                                    "TEMA_DE_INFLUENCIA": "NULL",
                                    "ALCANCE_POTENCIAL": "4.8M",
                                    "GUARDAR": "NULL",
                                    "INVITAR_A_LA_CAMPAÑA": "Ver Perfil",
                                    "Subscribers": "16300000",
                                    "TotalViews": "4331813752",
                                    "TotalVideos": "1377"
                                },
                                {
                                    "Name": "F2Freestylers - Ultimate Soccer Skills Channel @UCKvn9VBLAiLiYL4FFJHri6g",
                                    "SEGUIDORES": "14M",
                                    "TP": "0.20%",
                                    "PAÍS": "Reino Unido",
                                    "TEMA_DE_INFLUENCIA": "Celebridad",
                                    "ALCANCE_POTENCIAL": "4.2M",
                                    "GUARDAR": "NULL",
                                    "INVITAR_A_LA_CAMPAÑA": "Ver Perfil",
                                    "Subscribers": "14000000",
                                    "TotalViews": "3362724578",
                                    "TotalVideos": "782"
                                },
                                {
                                    "Name": "BBC News @UC16niRr50-MSBwiO3YDb3RA",
                                    "SEGUIDORES": "13.3M",
                                    "TP": "-",
                                    "PAÍS": "Reino Unido",
                                    "TEMA_DE_INFLUENCIA": "NULL",
                                    "ALCANCE_POTENCIAL": "4M",
                                    "GUARDAR": "NULL",
                                    "INVITAR_A_LA_CAMPAÑA": "Ver Perfil",
                                    "Subscribers": "16500000",
                                    "TotalViews": "5520751877",
                                    "TotalVideos": "22795"
                                },
                                {
                                    "Name": "BBC @UCCj956IF62FbT7Gouszaj9w",
                                    "SEGUIDORES": "12.9M",
                                    "TP": "-",
                                    "PAÍS": "Reino Unido",
                                    "TEMA_DE_INFLUENCIA": "NULL",
                                    "ALCANCE_POTENCIAL": "3.9M",
                                    "GUARDAR": "NULL",
                                    "INVITAR_A_LA_CAMPAÑA": "Ver Perfil",
                                    "Subscribers": "14400000",
                                    "TotalViews": "10639330502",
                                    "TotalVideos": "20157"
                                },
                                {
                                    "Name": "Awakening Music @UCBq5hp6DvwWam2XOXw6lYJA",
                                    "SEGUIDORES": "12.4M",
                                    "TP": "-",
                                    "PAÍS": "संयुक्त अधिराज्य",
                                    "TEMA_DE_INFLUENCIA": "सङ्गीत",
                                    "ALCANCE_POTENCIAL": "3.7M",
                                    "GUARDAR": "NULL",
                                    "INVITAR_A_LA_CAMPAÑA": "प्रोफ़ाइल देखें",
                                    "Subscribers": "14200000",
                                    "TotalViews": "6051493155",
                                    "TotalVideos": "956"
                                },
                                {
                                    "Name": "DisneyChannelUK @UCLeuoGy_hUDTBf5Hk0ynrpQ",
                                    "SEGUIDORES": "12.3M",
                                    "TP": "-",
                                    "PAÍS": "संयुक्त अधिराज्य",
                                    "TEMA_DE_INFLUENCIA": "NULL",
                                    "ALCANCE_POTENCIAL": "3.7M",
                                    "GUARDAR": "NULL",
                                    "INVITAR_A_LA_CAMPAÑA": "प्रोफ़ाइल देखें",
                                    "Subscribers": "13200000",
                                    "TotalViews": "13643137975",
                                    "TotalVideos": "4549"
                                },
                                {
                                    "Name": "colinfurze @UCp68_FLety0O-n9QU6phsgw",
                                    "SEGUIDORES": "11.9M",
                                    "TP": "0.60%",
                                    "PAÍS": "संयुक्त अधिराज्य",
                                    "TEMA_DE_INFLUENCIA": "NULL",
                                    "ALCANCE_POTENCIAL": "3.6M",
                                    "GUARDAR": "NULL",
                                    "INVITAR_A_LA_CAMPAÑA": "प्रोफ़ाइल देखें",
                                    "Subscribers": "13000000",
                                    "TotalViews": "1794282887",
                                    "TotalVideos": "405"
                                },
                                {
                                    "Name": "Mrwhosetheboss @UCMiJRAwDNSNzuYeN2uWa0pA",
                                    "SEGUIDORES": "11.8M",
                                    "TP": "1.90%",
                                    "PAÍS": "संयुक्त अधिराज्य",
                                    "TEMA_DE_INFLUENCIA": "NULL",
                                    "ALCANCE_POTENCIAL": "3.5M",
                                    "GUARDAR": "NULL",
                                    "INVITAR_A_LA_CAMPAÑA": "प्रोफ़ाइल देखें",
                                    "Subscribers": "19400000",
                                    "TotalViews": "5867581646",
                                    "TotalVideos": "1722"
                                },
                                {
                                    "Name": "TommyInnit @UC5p_l5ZeB_wGjO_yDXwiqvw",
                                    "SEGUIDORES": "11.7M",
                                    "TP": "-",
                                    "PAÍS": "संयुक्त अधिराज्य",
                                    "TEMA_DE_INFLUENCIA": "NULL",
                                    "ALCANCE_POTENCIAL": "3.5M",
                                    "GUARDAR": "NULL",
                                    "INVITAR_A_LA_CAMPAÑA": "प्रोफ़ाइल देखें",
                                    "Subscribers": "15000000",
                                    "TotalViews": "2460308744",
                                    "TotalVideos": "481"
                                },
                                {
                                    "Name": "Morgz @UCBwSufNse8VMBvQM_rCSvgQ",
                                    "SEGUIDORES": "11.6M",
                                    "TP": "0.10%",
                                    "PAÍS": "संयुक्त अधिराज्य",
                                    "TEMA_DE_INFLUENCIA": "NULL",
                                    "ALCANCE_POTENCIAL": "3.5M",
                                    "GUARDAR": "NULL",
                                    "INVITAR_A_LA_CAMPAÑA": "प्रोफ़ाइल देखें",
                                    "Subscribers": "12700000",
                                    "TotalViews": "3553469633",
                                    "TotalVideos": "850"
                                },
                                {
                                    "Name": "Tiana @UC6sSkkemzPjmrzS0Y0V_2zw",
                                    "SEGUIDORES": "11.4M",
                                    "TP": "-",
                                    "PAÍS": "संयुक्त अधिराज्य",
                                    "TEMA_DE_INFLUENCIA": "NULL",
                                    "ALCANCE_POTENCIAL": "3.4M",
                                    "GUARDAR": "NULL",
                                    "INVITAR_A_LA_CAMPAÑA": "प्रोफ़ाइल देखें",
                                    "Subscribers": "11400000",
                                    "TotalViews": "3251233360",
                                    "TotalVideos": "1048"
                                },
                                {
                                    "Name": "DisneyJuniorUK @UC7Gf2tZ8coTX2ckTPgn62iQ",
                                    "SEGUIDORES": "11.2M",
                                    "TP": "-",
                                    "PAÍS": "संयुक्त अधिराज्य",
                                    "TEMA_DE_INFLUENCIA": "NULL",
                                    "ALCANCE_POTENCIAL": "3.4M",
                                    "GUARDAR": "NULL",
                                    "INVITAR_A_LA_CAMPAÑA": "प्रोफ़ाइल देखें",
                                    "Subscribers": "12700000",
                                    "TotalViews": "12793124032",
                                    "TotalVideos": "3146"
                                },
                                {
                                    "Name": "Emily Tube @UC-0D1RlSzcvBoODCKSoLl2g",
                                    "SEGUIDORES": "11M",
                                    "TP": "-",
                                    "PAÍS": "संयुक्त अधिराज्य",
                                    "TEMA_DE_INFLUENCIA": "NULL",
                                    "ALCANCE_POTENCIAL": "3.3M",
                                    "GUARDAR": "NULL",
                                    "INVITAR_A_LA_CAMPAÑA": "प्रोफ़ाइल देखें",
                                    "Subscribers": "11100000",
                                    "TotalViews": "3752510896",
                                    "TotalVideos": "718"
                                },
                                {
                                    "Name": "Slogo @UCHdMK5Ef2El8KbD3L_WgANg",
                                    "SEGUIDORES": "10.9M",
                                    "TP": "-",
                                    "PAÍS": "संयुक्त अधिराज्य",
                                    "TEMA_DE_INFLUENCIA": "NULL",
                                    "ALCANCE_POTENCIAL": "3.3M",
                                    "GUARDAR": "NULL",
                                    "INVITAR_A_LA_CAMPAÑA": "प्रोफ़ाइल देखें",
                                    "Subscribers": "11800000",
                                    "TotalViews": "9103089536",
                                    "TotalVideos": "6487"
                                },
                                {
                                    "Name": "Jessie J @UC4pEp0mo54WhEBCTYvjVDJA",
                                    "SEGUIDORES": "10.4M",
                                    "TP": "-",
                                    "PAÍS": "संयुक्त अधिराज्य",
                                    "TEMA_DE_INFLUENCIA": "NULL",
                                    "ALCANCE_POTENCIAL": "3.1M",
                                    "GUARDAR": "NULL",
                                    "INVITAR_A_LA_CAMPAÑA": "प्रोफ़ाइल देखें",
                                    "Subscribers": "10600000",
                                    "TotalViews": "5853755808",
                                    "TotalVideos": "96"
                                },
                                {
                                    "Name": "Sing King @UCwTRjvjVge51X-ILJ4i22ew",
                                    "SEGUIDORES": "10.2M",
                                    "TP": "-",
                                    "PAÍS": "संयुक्त अधिराज्य",
                                    "TEMA_DE_INFLUENCIA": "NULL",
                                    "ALCANCE_POTENCIAL": "3.1M",
                                    "GUARDAR": "NULL",
                                    "INVITAR_A_LA_CAMPAÑA": "प्रोफ़ाइल देखें",
                                    "Subscribers": "12300000",
                                    "TotalViews": "8372986919",
                                    "TotalVideos": "4514"
                                },
                                {
                                    "Name": "BBC News عربي @UCelk6aHijZq-GJBBB9YpReA",
                                    "SEGUIDORES": "10.1M",
                                    "TP": "-",
                                    "PAÍS": "संयुक्त अधिराज्य",
                                    "TEMA_DE_INFLUENCIA": "NULL",
                                    "ALCANCE_POTENCIAL": "3M",
                                    "GUARDAR": "NULL",
                                    "INVITAR_A_LA_CAMPAÑA": "प्रोफ़ाइल देखें",
                                    "Subscribers": "11700000",
                                    "TotalViews": "5004214378",
                                    "TotalVideos": "41745"
                                },
                                {
                                    "Name": "Classic Mr Bean @UCEwIUtFBhaI2L2PuKv0KL2g",
                                    "SEGUIDORES": "9.9M",
                                    "TP": "-",
                                    "PAÍS": "संयुक्त अधिराज्य",
                                    "TEMA_DE_INFLUENCIA": "NULL",
                                    "ALCANCE_POTENCIAL": "3M",
                                    "GUARDAR": "NULL",
                                    "INVITAR_A_LA_CAMPAÑA": "प्रोफ़ाइल देखें",
                                    "Subscribers": "10600000",
                                    "TotalViews": "3431765246",
                                    "TotalVideos": "1854"
                                },
                                {
                                    "Name": "Syndicate @UC1ieoHqKW-yYgDhLHIcx28w",
                                    "SEGUIDORES": "9.7M",
                                    "TP": "-",
                                    "PAÍS": "संयुक्त अधिराज्य",
                                    "TEMA_DE_INFLUENCIA": "NULL",
                                    "ALCANCE_POTENCIAL": "2.9M",
                                    "GUARDAR": "NULL",
                                    "INVITAR_A_LA_CAMPAÑA": "प्रोफ़ाइल देखें",
                                    "Subscribers": "9590000",
                                    "TotalViews": "2135513622",
                                    "TotalVideos": "3531"
                                },
                                {
                                    "Name": "Gorillaz @UCfIXdjDQH9Fau7y99_Orpjw",
                                    "SEGUIDORES": "9.4M",
                                    "TP": "0.10%",
                                    "PAÍS": "संयुक्त अधिराज्य",
                                    "TEMA_DE_INFLUENCIA": "NULL",
                                    "ALCANCE_POTENCIAL": "2.8M",
                                    "GUARDAR": "NULL",
                                    "INVITAR_A_LA_CAMPAÑA": "प्रोफ़ाइल देखें",
                                    "Subscribers": "11100000",
                                    "TotalViews": "6049269435",
                                    "TotalVideos": "363"
                                },
                                {
                                    "Name": "Woody & Kleiny @UCoGForHQAmk0_9rI9CABeYw",
                                    "SEGUIDORES": "9.4M",
                                    "TP": "1.10%",
                                    "PAÍS": "संयुक्त अधिराज्य",
                                    "TEMA_DE_INFLUENCIA": "NULL",
                                    "ALCANCE_POTENCIAL": "2.8M",
                                    "GUARDAR": "NULL",
                                    "INVITAR_A_LA_CAMPAÑA": "प्रोफ़ाइल देखें",
                                    "Subscribers": "15700000",
                                    "TotalViews": "14730604851",
                                    "TotalVideos": "1191"
                                },
                                {
                                    "Name": "Jungle Beat @UChUHOEe7zgYmrv7a_LlpNng",
                                    "SEGUIDORES": "9.3M",
                                    "TP": "-",
                                    "PAÍS": "संयुक्त अधिराज्य",
                                    "TEMA_DE_INFLUENCIA": "यात्रा",
                                    "ALCANCE_POTENCIAL": "2.8M",
                                    "GUARDAR": "NULL",
                                    "INVITAR_A_LA_CAMPAÑA": "प्रोफ़ाइल देखें",
                                    "Subscribers": "12000000",
                                    "TotalViews": "6061621453",
                                    "TotalVideos": "897"
                                },
                                {
                                    "Name": "Julius Dein @juliusdein",
                                    "SEGUIDORES": "9.2M",
                                    "TP": "-",
                                    "PAÍS": "संयुक्त अधिराज्य",
                                    "TEMA_DE_INFLUENCIA": "NULL",
                                    "ALCANCE_POTENCIAL": "2.8M",
                                    "GUARDAR": "NULL",
                                    "INVITAR_A_LA_CAMPAÑA": "प्रोफ़ाइल देखें",
                                    "Subscribers": "0",
                                    "TotalViews": "0",
                                    "TotalVideos": "0"
                                },
                                {
                                    "Name": "The X Factor UK @UCEY1ejsweY4DgMwOVJeEaBA",
                                    "SEGUIDORES": "9.1M",
                                    "TP": "0.10%",
                                    "PAÍS": "संयुक्त अधिराज्य",
                                    "TEMA_DE_INFLUENCIA": "NULL",
                                    "ALCANCE_POTENCIAL": "2.7M",
                                    "GUARDAR": "NULL",
                                    "INVITAR_A_LA_CAMPAÑA": "प्रोफ़ाइल देखें",
                                    "Subscribers": "9200000",
                                    "TotalViews": "7039090466",
                                    "TotalVideos": "5584"
                                },
                                {
                                    "Name": "English with Lucy @UCz4tgANd4yy8Oe0iXCdSWfA",
                                    "SEGUIDORES": "9M",
                                    "TP": "-",
                                    "PAÍS": "संयुक्त अधिराज्य",
                                    "TEMA_DE_INFLUENCIA": "NULL",
                                    "ALCANCE_POTENCIAL": "2.7M",
                                    "GUARDAR": "NULL",
                                    "INVITAR_A_LA_CAMPAÑA": "प्रोफ़ाइल देखें",
                                    "Subscribers": "11400000",
                                    "TotalViews": "525614783",
                                    "TotalVideos": "400"
                                },
                                {
                                    "Name": "Shaun the Sheep @UCS7H8U-n5mINVJjJsaRtGHg",
                                    "SEGUIDORES": "8.9M",
                                    "TP": "-",
                                    "PAÍS": "संयुक्त अधिराज्य",
                                    "TEMA_DE_INFLUENCIA": "NULL",
                                    "ALCANCE_POTENCIAL": "2.7M",
                                    "GUARDAR": "NULL",
                                    "INVITAR_A_LA_CAMPAÑA": "प्रोफ़ाइल देखें",
                                    "Subscribers": "12300000",
                                    "TotalViews": "6627281914",
                                    "TotalVideos": "984"
                                },
                                {
                                    "Name": "Cartoons for Kids @UC977n5nXRn8MDuGQjwxkOLw",
                                    "SEGUIDORES": "8.7M",
                                    "TP": "-",
                                    "PAÍS": "संयुक्त अधिराज्य",
                                    "TEMA_DE_INFLUENCIA": "NULL",
                                    "ALCANCE_POTENCIAL": "2.6M",
                                    "GUARDAR": "NULL",
                                    "INVITAR_A_LA_CAMPAÑA": "प्रोफ़ाइल देखें",
                                    "Subscribers": "9040000",
                                    "TotalViews": "3444854594",
                                    "TotalVideos": "2605"
                                },
                                {
                                    "Name": "Mumbo Jumbo @UChFur_NwVSbUozOcF_F2kMg",
                                    "SEGUIDORES": "8.5M",
                                    "TP": "1.70%",
                                    "PAÍS": "संयुक्त अधिराज्य",
                                    "TEMA_DE_INFLUENCIA": "भिडियो गेमिङ",
                                    "ALCANCE_POTENCIAL": "2.6M",
                                    "GUARDAR": "NULL",
                                    "INVITAR_A_LA_CAMPAÑA": "प्रोफ़ाइल देखें",
                                    "Subscribers": "9440000",
                                    "TotalViews": "3122938724",
                                    "TotalVideos": "2096"
                                },
                                {
                                    "Name": "Top Gear @UCjOl2AUblVmg2rA_cRgZkFg",
                                    "SEGUIDORES": "8.4M",
                                    "TP": "-",
                                    "PAÍS": "संयुक्त अधिराज्य",
                                    "TEMA_DE_INFLUENCIA": "NULL",
                                    "ALCANCE_POTENCIAL": "2.5M",
                                    "GUARDAR": "NULL",
                                    "INVITAR_A_LA_CAMPAÑA": "प्रोफ़ाइल देखें",
                                    "Subscribers": "9060000",
                                    "TotalViews": "4044979931",
                                    "TotalVideos": "1932"
                                },
                                {
                                    "Name": "Moonbug Kids - Kids Learning Videos @UC1QqdFv5e9QSEi0eYdfwuqw",
                                    "SEGUIDORES": "8.3M",
                                    "TP": "-",
                                    "PAÍS": "संयुक्त अधिराज्य",
                                    "TEMA_DE_INFLUENCIA": "NULL",
                                    "ALCANCE_POTENCIAL": "2.5M",
                                    "GUARDAR": "NULL",
                                    "INVITAR_A_LA_CAMPAÑA": "प्रोफ़ाइल देखें",
                                    "Subscribers": "12200000",
                                    "TotalViews": "8945702381",
                                    "TotalVideos": "1680"
                                },
                                {
                                    "Name": "BBC Radio 1 @UC-FQUIVQ-bZiefzBiQAa8Fw",
                                    "SEGUIDORES": "8.1M",
                                    "TP": "-",
                                    "PAÍS": "संयुक्त अधिराज्य",
                                    "TEMA_DE_INFLUENCIA": "NULL",
                                    "ALCANCE_POTENCIAL": "2.4M",
                                    "GUARDAR": "NULL",
                                    "INVITAR_A_LA_CAMPAÑA": "प्रोफ़ाइल देखें",
                                    "Subscribers": "8290000",
                                    "TotalViews": "3789746136",
                                    "TotalVideos": "4937"
                                },
                                {
                                    "Name": "Liverpool FC @liverpoolfc",
                                    "SEGUIDORES": "8M",
                                    "TP": "-",
                                    "PAÍS": "संयुक्त अधिराज्य",
                                    "TEMA_DE_INFLUENCIA": "NULL",
                                    "ALCANCE_POTENCIAL": "2.4M",
                                    "GUARDAR": "NULL",
                                    "INVITAR_A_LA_CAMPAÑA": "प्रोफ़ाइल देखें",
                                    "Subscribers": "0",
                                    "TotalViews": "0",
                                    "TotalVideos": "0"
                                },
                                {
                                    "Name": "Grian @UCR9Gcq0CMm6YgTzsDxAxjOQ",
                                    "SEGUIDORES": "7.8M",
                                    "TP": "1.80%",
                                    "PAÍS": "संयुक्त अधिराज्य",
                                    "TEMA_DE_INFLUENCIA": "NULL",
                                    "ALCANCE_POTENCIAL": "2.3M",
                                    "GUARDAR": "NULL",
                                    "INVITAR_A_LA_CAMPAÑA": "प्रोफ़ाइल देखें",
                                    "Subscribers": "8600000",
                                    "TotalViews": "2507789447",
                                    "TotalVideos": "765"
                                },
                                {
                                    "Name": "Daz Games @UCDBCCMlFD-hArPbWv38FINA",
                                    "SEGUIDORES": "7.6M",
                                    "TP": "0.30%",
                                    "PAÍS": "संयुक्त अधिराज्य",
                                    "TEMA_DE_INFLUENCIA": "NULL",
                                    "ALCANCE_POTENCIAL": "2.3M",
                                    "GUARDAR": "NULL",
                                    "INVITAR_A_LA_CAMPAÑA": "प्रोफ़ाइल देखें",
                                    "Subscribers": "8710000",
                                    "TotalViews": "2792610067",
                                    "TotalVideos": "1597"
                                },
                                {
                                    "Name": "Vikkstar123 @UCvwgF_0NOZe2vN4Q3g1bY-A",
                                    "SEGUIDORES": "7.6M",
                                    "TP": "-",
                                    "PAÍS": "संयुक्त अधिराज्य",
                                    "TEMA_DE_INFLUENCIA": "NULL",
                                    "ALCANCE_POTENCIAL": "2.3M",
                                    "GUARDAR": "NULL",
                                    "INVITAR_A_LA_CAMPAÑA": "प्रोफ़ाइल देखें",
                                    "Subscribers": "7600000",
                                    "TotalViews": "2168400781",
                                    "TotalVideos": "5060"
                                },
                                {
                                    "Name": "PlayToys @UCHFA6Nt11kE_8OWIya0SQDQ",
                                    "SEGUIDORES": "7.6M",
                                    "TP": "-",
                                    "PAÍS": "संयुक्त अधिराज्य",
                                    "TEMA_DE_INFLUENCIA": "NULL",
                                    "ALCANCE_POTENCIAL": "2.3M",
                                    "GUARDAR": "NULL",
                                    "INVITAR_A_LA_CAMPAÑA": "प्रोफ़ाइल देखें",
                                    "Subscribers": "7850000",
                                    "TotalViews": "3074883075",
                                    "TotalVideos": "961"
                                },
                                {
                                    "Name": "carwow @UCUhFaUpnq31m6TNX2VKVSVA",
                                    "SEGUIDORES": "7.5M",
                                    "TP": "0.20%",
                                    "PAÍS": "संयुक्त अधिराज्य",
                                    "TEMA_DE_INFLUENCIA": "NULL",
                                    "ALCANCE_POTENCIAL": "2.2M",
                                    "GUARDAR": "NULL",
                                    "INVITAR_A_LA_CAMPAÑA": "प्रोफ़ाइल देखें",
                                    "Subscribers": "9540000",
                                    "TotalViews": "4131746776",
                                    "TotalVideos": "2813"
                                },
                                {
                                    "Name": "Jeremy Lynch @UC5Y1pPVNm-odhiubuRO1D6A",
                                    "SEGUIDORES": "7.4M",
                                    "TP": "-",
                                    "PAÍS": "संयुक्त अधिराज्य",
                                    "TEMA_DE_INFLUENCIA": "NULL",
                                    "ALCANCE_POTENCIAL": "2.2M",
                                    "GUARDAR": "NULL",
                                    "INVITAR_A_LA_CAMPAÑA": "प्रोफ़ाइल देखें",
                                    "Subscribers": "12400000",
                                    "TotalViews": "6669029131",
                                    "TotalVideos": "829"
                                },
                                {
                                    "Name": "TomSka @UCOYWgypDktXdb-HfZnSMK6A",
                                    "SEGUIDORES": "7.2M",
                                    "TP": "2.20%",
                                    "PAÍS": "संयुक्त अधिराज्य",
                                    "TEMA_DE_INFLUENCIA": "NULL",
                                    "ALCANCE_POTENCIAL": "2.2M",
                                    "GUARDAR": "NULL",
                                    "INVITAR_A_LA_CAMPAÑA": "प्रोफ़ाइल देखें",
                                    "Subscribers": "7360000",
                                    "TotalViews": "2104067024",
                                    "TotalVideos": "180"
                                },
                                {
                                    "Name": "YOGSCAST Lewis & Simon @UCH-_hzb2ILSCo9ftVSnrCIQ",
                                    "SEGUIDORES": "7.1M",
                                    "TP": "-",
                                    "PAÍS": "संयुक्त अधिराज्य",
                                    "TEMA_DE_INFLUENCIA": "समाचारहरू",
                                    "ALCANCE_POTENCIAL": "2.1M",
                                    "GUARDAR": "NULL",
                                    "INVITAR_A_LA_CAMPAÑA": "प्रोफ़ाइल देखें",
                                    "Subscribers": "7060000",
                                    "TotalViews": "4592584356",
                                    "TotalVideos": "6681"
                                },
                                {
                                    "Name": "LDShadowLady @UCzTlXb7ivVzuFlugVCv3Kvg",
                                    "SEGUIDORES": "7M",
                                    "TP": "-",
                                    "PAÍS": "संयुक्त अधिराज्य",
                                    "TEMA_DE_INFLUENCIA": "भिडियो गेमिङ",
                                    "ALCANCE_POTENCIAL": "2.1M",
                                    "GUARDAR": "NULL",
                                    "INVITAR_A_LA_CAMPAÑA": "प्रोफ़ाइल देखें",
                                    "Subscribers": "7220000",
                                    "TotalViews": "3473363066",
                                    "TotalVideos": "1079"
                                },
                                {
                                    "Name": "The Beatles @UCc4K7bAqpdBP8jh1j9XZAww",
                                    "SEGUIDORES": "6.9M",
                                    "TP": "0.10%",
                                    "PAÍS": "संयुक्त अधिराज्य",
                                    "TEMA_DE_INFLUENCIA": "NULL",
                                    "ALCANCE_POTENCIAL": "2.1M",
                                    "GUARDAR": "NULL",
                                    "INVITAR_A_LA_CAMPAÑA": "प्रोफ़ाइल देखें",
                                    "Subscribers": "8470000",
                                    "TotalViews": "7240558202",
                                    "TotalVideos": "328"
                                },
                                {
                                    "Name": "Passenger @UCFHtCB_FWXQ8GpjgfYcD8-g",
                                    "SEGUIDORES": "6.9M",
                                    "TP": "-",
                                    "PAÍS": "संयुक्त अधिराज्य",
                                    "TEMA_DE_INFLUENCIA": "NULL",
                                    "ALCANCE_POTENCIAL": "2.1M",
                                    "GUARDAR": "NULL",
                                    "INVITAR_A_LA_CAMPAÑA": "प्रोफ़ाइल देखें",
                                    "Subscribers": "7480000",
                                    "TotalViews": "4660522352",
                                    "TotalVideos": "392"
                                },
                                {
                                    "Name": "MessYourself @UCrSgaO6xOY8YV1EoCbD51HA",
                                    "SEGUIDORES": "6.9M",
                                    "TP": "-",
                                    "PAÍS": "संयुक्त अधिराज्य",
                                    "TEMA_DE_INFLUENCIA": "NULL",
                                    "ALCANCE_POTENCIAL": "2.1M",
                                    "GUARDAR": "NULL",
                                    "INVITAR_A_LA_CAMPAÑA": "प्रोफ़ाइल देखें",
                                    "Subscribers": "6870000",
                                    "TotalViews": "2578150508",
                                    "TotalVideos": "1068"
                                },
                                {
                                    "Name": "MoreSidemen @UCh5mLn90vUaB1PbRRx_AiaA",
                                    "SEGUIDORES": "6.8M",
                                    "TP": "0.60%",
                                    "PAÍS": "संयुक्त अधिराज्य",
                                    "TEMA_DE_INFLUENCIA": "NULL",
                                    "ALCANCE_POTENCIAL": "2M",
                                    "GUARDAR": "NULL",
                                    "INVITAR_A_LA_CAMPAÑA": "प्रोफ़ाइल देखें",
                                    "Subscribers": "8800000",
                                    "TotalViews": "4636419340",
                                    "TotalVideos": "1097"
                                },
                                {
                                    "Name": "Boomerang UK @UCmst562fALOY2cKb4IFgqEg",
                                    "SEGUIDORES": "6.8M",
                                    "TP": "-",
                                    "PAÍS": "संयुक्त अधिराज्य",
                                    "TEMA_DE_INFLUENCIA": "NULL",
                                    "ALCANCE_POTENCIAL": "2M",
                                    "GUARDAR": "NULL",
                                    "INVITAR_A_LA_CAMPAÑA": "प्रोफ़ाइल देखें",
                                    "Subscribers": "7600000",
                                    "TotalViews": "3793938501",
                                    "TotalVideos": "2467"
                                },
                                {
                                    "Name": "James Arthur @UCV5Gw7GGOMxe6SSF6llp_3Q",
                                    "SEGUIDORES": "6.8M",
                                    "TP": "-",
                                    "PAÍS": "संयुक्त अधिराज्य",
                                    "TEMA_DE_INFLUENCIA": "NULL",
                                    "ALCANCE_POTENCIAL": "2M",
                                    "GUARDAR": "NULL",
                                    "INVITAR_A_LA_CAMPAÑA": "प्रोफ़ाइल देखें",
                                    "Subscribers": "7480000",
                                    "TotalViews": "4592059954",
                                    "TotalVideos": "229"
                                },
                                {
                                    "Name": "ARPO The Robot @UCrSx8rek9EuC3YGHvG8aalw",
                                    "SEGUIDORES": "6.7M",
                                    "TP": "-",
                                    "PAÍS": "संयुक्त अधिराज्य",
                                    "TEMA_DE_INFLUENCIA": "NULL",
                                    "ALCANCE_POTENCIAL": "2M",
                                    "GUARDAR": "NULL",
                                    "INVITAR_A_LA_CAMPAÑA": "प्रोफ़ाइल देखें",
                                    "Subscribers": "7750000",
                                    "TotalViews": "3310403387",
                                    "TotalVideos": "1449"
                                },
                                {
                                    "Name": "24 News HD @UCcmpeVbSSQlZRvHfdC-CRwg",
                                    "SEGUIDORES": "6.7M",
                                    "TP": "-",
                                    "PAÍS": "संयुक्त अधिराज्य",
                                    "TEMA_DE_INFLUENCIA": "NULL",
                                    "ALCANCE_POTENCIAL": "2M",
                                    "GUARDAR": "NULL",
                                    "INVITAR_A_LA_CAMPAÑA": "प्रोफ़ाइल देखें",
                                    "Subscribers": "8150000",
                                    "TotalViews": "3624439122",
                                    "TotalVideos": "175040"
                                },
                                {
                                    "Name": "RubyandBonnie @UC_wITz-Ze4JFc3WLQA1n3Hw",
                                    "SEGUIDORES": "6.6M",
                                    "TP": "-",
                                    "PAÍS": "संयुक्त अधिराज्य",
                                    "TEMA_DE_INFLUENCIA": "NULL",
                                    "ALCANCE_POTENCIAL": "2M",
                                    "GUARDAR": "NULL",
                                    "INVITAR_A_LA_CAMPAÑA": "प्रोफ़ाइल देखें",
                                    "Subscribers": "9210000",
                                    "TotalViews": "5444120183",
                                    "TotalVideos": "662"
                                },
                                {
                                    "Name": "Nickelodeon UK @UCHiceVclOIFCgAcveITRLLw",
                                    "SEGUIDORES": "6.6M",
                                    "TP": "-",
                                    "PAÍS": "संयुक्त अधिराज्य",
                                    "TEMA_DE_INFLUENCIA": "NULL",
                                    "ALCANCE_POTENCIAL": "2M",
                                    "GUARDAR": "NULL",
                                    "INVITAR_A_LA_CAMPAÑA": "प्रोफ़ाइल देखें",
                                    "Subscribers": "7150000",
                                    "TotalViews": "7602265970",
                                    "TotalVideos": "3344"
                                },
                                {
                                    "Name": "Mark Ronson @UCSY5V7BJSrxNvvBF0Drslow",
                                    "SEGUIDORES": "6.5M",
                                    "TP": "-",
                                    "PAÍS": "संयुक्त अधिराज्य",
                                    "TEMA_DE_INFLUENCIA": "NULL",
                                    "ALCANCE_POTENCIAL": "2M",
                                    "GUARDAR": "NULL",
                                    "INVITAR_A_LA_CAMPAÑA": "प्रोफ़ाइल देखें",
                                    "Subscribers": "6930000",
                                    "TotalViews": "6653771118",
                                    "TotalVideos": "20"
                                },
                                {
                                    "Name": "Rhia Official @UCQdsJ95w9jh-yB0BA6EDGWA",
                                    "SEGUIDORES": "6.4M",
                                    "TP": "-",
                                    "PAÍS": "संयुक्त अधिराज्य",
                                    "TEMA_DE_INFLUENCIA": "NULL",
                                    "ALCANCE_POTENCIAL": "1.9M",
                                    "GUARDAR": "NULL",
                                    "INVITAR_A_LA_CAMPAÑA": "प्रोफ़ाइल देखें",
                                    "Subscribers": "13600000",
                                    "TotalViews": "6390951598",
                                    "TotalVideos": "973"
                                },
                                {
                                    "Name": "UKF Dubstep @UCfLFTP1uTuIizynWsZq2nkQ",
                                    "SEGUIDORES": "6.3M",
                                    "TP": "-",
                                    "PAÍS": "संयुक्त अधिराज्य",
                                    "TEMA_DE_INFLUENCIA": "NULL",
                                    "ALCANCE_POTENCIAL": "1.9M",
                                    "GUARDAR": "NULL",
                                    "INVITAR_A_LA_CAMPAÑA": "प्रोफ़ाइल देखें",
                                    "Subscribers": "6240000",
                                    "TotalViews": "2133843365",
                                    "TotalVideos": "1778"
                                },
                                {
                                    "Name": "TGFbro @UCOgUcv_9DaivXzsN9mcHIzQ",
                                    "SEGUIDORES": "6.2M",
                                    "TP": "0.90%",
                                    "PAÍS": "संयुक्त अधिराज्य",
                                    "TEMA_DE_INFLUENCIA": "NULL",
                                    "ALCANCE_POTENCIAL": "1.9M",
                                    "GUARDAR": "NULL",
                                    "INVITAR_A_LA_CAMPAÑA": "प्रोफ़ाइल देखें",
                                    "Subscribers": "6160000",
                                    "TotalViews": "1469759538",
                                    "TotalVideos": "472"
                                },
                                {
                                    "Name": "Wilbur Soot @UC1n_PfsVqxllCcnMPlxBIjw",
                                    "SEGUIDORES": "6.2M",
                                    "TP": "2.60%",
                                    "PAÍS": "संयुक्त अधिराज्य",
                                    "TEMA_DE_INFLUENCIA": "NULL",
                                    "ALCANCE_POTENCIAL": "1.9M",
                                    "GUARDAR": "NULL",
                                    "INVITAR_A_LA_CAMPAÑA": "प्रोफ़ाइल देखें",
                                    "Subscribers": "5720000",
                                    "TotalViews": "798519135",
                                    "TotalVideos": "139"
                                },
                                {
                                    "Name": "Russell Brand @UCswH8ovgUp5Bdg-0_JTYFNw",
                                    "SEGUIDORES": "6.2M",
                                    "TP": "-",
                                    "PAÍS": "संयुक्त अधिराज्य",
                                    "TEMA_DE_INFLUENCIA": "NULL",
                                    "ALCANCE_POTENCIAL": "1.9M",
                                    "GUARDAR": "NULL",
                                    "INVITAR_A_LA_CAMPAÑA": "प्रोफ़ाइल देखें",
                                    "Subscribers": "6850000",
                                    "TotalViews": "1395796453",
                                    "TotalVideos": "3062"
                                },
                                {
                                    "Name": "Manchester United @UC6yW44UGJJBvYTlfC7CRg2Q",
                                    "SEGUIDORES": "6.2M",
                                    "TP": "0.20%",
                                    "PAÍS": "संयुक्त अधिराज्य",
                                    "TEMA_DE_INFLUENCIA": "NULL",
                                    "ALCANCE_POTENCIAL": "1.9M",
                                    "GUARDAR": "NULL",
                                    "INVITAR_A_LA_CAMPAÑA": "प्रोफ़ाइल देखें",
                                    "Subscribers": "9350000",
                                    "TotalViews": "2398716820",
                                    "TotalVideos": "4316"
                                },
                                {
                                    "Name": "Pingu - Official Channel @UCM88mtSE0zRTn5ae4EbYcuw",
                                    "SEGUIDORES": "6.2M",
                                    "TP": "-",
                                    "PAÍS": "संयुक्त अधिराज्य",
                                    "TEMA_DE_INFLUENCIA": "NULL",
                                    "ALCANCE_POTENCIAL": "1.8M",
                                    "GUARDAR": "NULL",
                                    "INVITAR_A_LA_CAMPAÑA": "प्रोफ़ाइल देखें",
                                    "Subscribers": "7030000",
                                    "TotalViews": "2856662305",
                                    "TotalVideos": "682"
                                },
                                {
                                    "Name": "Mrwhosetheboss Shorts @UCZSlfzadjnw7G419c_OJ9eg",
                                    "SEGUIDORES": "6.1M",
                                    "TP": "-",
                                    "PAÍS": "संयुक्त अधिराज्य",
                                    "TEMA_DE_INFLUENCIA": "NULL",
                                    "ALCANCE_POTENCIAL": "1.8M",
                                    "GUARDAR": "NULL",
                                    "INVITAR_A_LA_CAMPAÑA": "प्रोफ़ाइल देखें",
                                    "Subscribers": "7140000",
                                    "TotalViews": "3805670357",
                                    "TotalVideos": "186"
                                },
                                {
                                    "Name": "Niko Omilana @UCdcUmdOxMrhRjKMw-BX19AA",
                                    "SEGUIDORES": "6M",
                                    "TP": "16.20%",
                                    "PAÍS": "संयुक्त अधिराज्य",
                                    "TEMA_DE_INFLUENCIA": "NULL",
                                    "ALCANCE_POTENCIAL": "1.8M",
                                    "GUARDAR": "NULL",
                                    "INVITAR_A_LA_CAMPAÑA": "प्रोफ़ाइल देखें",
                                    "Subscribers": "7650000",
                                    "TotalViews": "639829658",
                                    "TotalVideos": "142"
                                },
                                {
                                    "Name": "Tiana Wilson @UC7_yh9PEDpaqp34QtGO-_Yw",
                                    "SEGUIDORES": "5.9M",
                                    "TP": "-",
                                    "PAÍS": "संयुक्त अधिराज्य",
                                    "TEMA_DE_INFLUENCIA": "NULL",
                                    "ALCANCE_POTENCIAL": "1.8M",
                                    "GUARDAR": "NULL",
                                    "INVITAR_A_LA_CAMPAÑA": "प्रोफ़ाइल देखें",
                                    "Subscribers": "5850000",
                                    "TotalViews": "1648116162",
                                    "TotalVideos": "429"
                                },
                                {
                                    "Name": "Capital FM @UCZzwjZPc6R_PbnDgFVMwlvQ",
                                    "SEGUIDORES": "5.8M",
                                    "TP": "-",
                                    "PAÍS": "संयुक्त अधिराज्य",
                                    "TEMA_DE_INFLUENCIA": "NULL",
                                    "ALCANCE_POTENCIAL": "1.7M",
                                    "GUARDAR": "NULL",
                                    "INVITAR_A_LA_CAMPAÑA": "प्रोफ़ाइल देखें",
                                    "Subscribers": "6210000",
                                    "TotalViews": "3645641747",
                                    "TotalVideos": "2692"
                                },
                                {
                                    "Name": "Simon's Cat @UCH6vXjt-BA7QHl0KnfL-7RQ",
                                    "SEGUIDORES": "5.8M",
                                    "TP": "0.30%",
                                    "PAÍS": "संयुक्त अधिराज्य",
                                    "TEMA_DE_INFLUENCIA": "NULL",
                                    "ALCANCE_POTENCIAL": "1.7M",
                                    "GUARDAR": "NULL",
                                    "INVITAR_A_LA_CAMPAÑA": "प्रोफ़ाइल देखें",
                                    "Subscribers": "6280000",
                                    "TotalViews": "1607423488",
                                    "TotalVideos": "523"
                                },
                                {
                                    "Name": "CGP Grey @UC2C_jShtL725hvbm1arSV9w",
                                    "SEGUIDORES": "5.8M",
                                    "TP": "-",
                                    "PAÍS": "संयुक्त अधिराज्य",
                                    "TEMA_DE_INFLUENCIA": "NULL",
                                    "ALCANCE_POTENCIAL": "1.7M",
                                    "GUARDAR": "NULL",
                                    "INVITAR_A_LA_CAMPAÑA": "प्रोफ़ाइल देखें",
                                    "Subscribers": "6440000",
                                    "TotalViews": "1058122302",
                                    "TotalVideos": "188"
                                },
                                {
                                    "Name": "Jamie Oliver @UCpSgg_ECBj25s9moCDfSTsA",
                                    "SEGUIDORES": "5.8M",
                                    "TP": "-",
                                    "PAÍS": "संयुक्त अधिराज्य",
                                    "TEMA_DE_INFLUENCIA": "NULL",
                                    "ALCANCE_POTENCIAL": "1.7M",
                                    "GUARDAR": "NULL",
                                    "INVITAR_A_LA_CAMPAÑA": "प्रोफ़ाइल देखें",
                                    "Subscribers": "5950000",
                                    "TotalViews": "976588378",
                                    "TotalVideos": "2178"
                                },
                                {
                                    "Name": "ChrisMD @sirhcchris2010",
                                    "SEGUIDORES": "5.6M",
                                    "TP": "2.20%",
                                    "PAÍS": "संयुक्त अधिराज्य",
                                    "TEMA_DE_INFLUENCIA": "NULL",
                                    "ALCANCE_POTENCIAL": "1.7M",
                                    "GUARDAR": "NULL",
                                    "INVITAR_A_LA_CAMPAÑA": "प्रोफ़ाइल देखें",
                                    "Subscribers": "0",
                                    "TotalViews": "0",
                                    "TotalVideos": "0"
                                },
                                {
                                    "Name": "Dumori Bay @UC-VDfQNL-S44eZscGlXI14g",
                                    "SEGUIDORES": "5.6M",
                                    "TP": "-",
                                    "PAÍS": "संयुक्त अधिराज्य",
                                    "TEMA_DE_INFLUENCIA": "NULL",
                                    "ALCANCE_POTENCIAL": "1.7M",
                                    "GUARDAR": "NULL",
                                    "INVITAR_A_LA_CAMPAÑA": "प्रोफ़ाइल देखें",
                                    "Subscribers": "5320000",
                                    "TotalViews": "1135071",
                                    "TotalVideos": "225"
                                },
                                {
                                    "Name": "Space Videos @UCakgsb0w7QB0VHdnCc-OVEA",
                                    "SEGUIDORES": "5.5M",
                                    "TP": "-",
                                    "PAÍS": "संयुक्त अधिराज्य",
                                    "TEMA_DE_INFLUENCIA": "NULL",
                                    "ALCANCE_POTENCIAL": "1.7M",
                                    "GUARDAR": "NULL",
                                    "INVITAR_A_LA_CAMPAÑA": "प्रोफ़ाइल देखें",
                                    "Subscribers": "5620000",
                                    "TotalViews": "115203284",
                                    "TotalVideos": "121"
                                },
                                {
                                    "Name": "Real Stories @UCu4XcDBdnZkV6-5z2f16M0g",
                                    "SEGUIDORES": "5.5M",
                                    "TP": "-",
                                    "PAÍS": "संयुक्त अधिराज्य",
                                    "TEMA_DE_INFLUENCIA": "प्रसिद्धि",
                                    "ALCANCE_POTENCIAL": "1.7M",
                                    "GUARDAR": "NULL",
                                    "INVITAR_A_LA_CAMPAÑA": "प्रोफ़ाइल देखें",
                                    "Subscribers": "6390000",
                                    "TotalViews": "1185358242",
                                    "TotalVideos": "1130"
                                },
                                {
                                    "Name": "More Emily @UCO66lK14MYiXlu0A6pQ4ouA",
                                    "SEGUIDORES": "5.4M",
                                    "TP": "-",
                                    "PAÍS": "संयुक्त अधिराज्य",
                                    "TEMA_DE_INFLUENCIA": "NULL",
                                    "ALCANCE_POTENCIAL": "1.6M",
                                    "GUARDAR": "NULL",
                                    "INVITAR_A_LA_CAMPAÑA": "प्रोफ़ाइल देखें",
                                    "Subscribers": "5270000",
                                    "TotalViews": "1481136558",
                                    "TotalVideos": "634"
                                },
                                {
                                    "Name": "GRM Daily @UCqTwKvjbTENZDGbz2si47ag",
                                    "SEGUIDORES": "5.3M",
                                    "TP": "-",
                                    "PAÍS": "संयुक्त अधिराज्य",
                                    "TEMA_DE_INFLUENCIA": "NULL",
                                    "ALCANCE_POTENCIAL": "1.6M",
                                    "GUARDAR": "NULL",
                                    "INVITAR_A_LA_CAMPAÑA": "प्रोफ़ाइल देखें",
                                    "Subscribers": "6410000",
                                    "TotalViews": "7709031500",
                                    "TotalVideos": "15084"
                                },
                                {
                                    "Name": "Joe Weller @UCLk9wddjT0F-HILLRFXodtg",
                                    "SEGUIDORES": "5.3M",
                                    "TP": "1.90%",
                                    "PAÍS": "संयुक्त अधिराज्य",
                                    "TEMA_DE_INFLUENCIA": "NULL",
                                    "ALCANCE_POTENCIAL": "1.6M",
                                    "GUARDAR": "NULL",
                                    "INVITAR_A_LA_CAMPAÑA": "प्रोफ़ाइल देखें",
                                    "Subscribers": "5300000",
                                    "TotalViews": "1020276687",
                                    "TotalVideos": "322"
                                },
                                {
                                    "Name": "WildBrain Kids @UCbmWOFTbZoDLWqG1rvFnJ0g",
                                    "SEGUIDORES": "5.2M",
                                    "TP": "-",
                                    "PAÍS": "संयुक्त अधिराज्य",
                                    "TEMA_DE_INFLUENCIA": "प्रसिद्धि",
                                    "ALCANCE_POTENCIAL": "1.6M",
                                    "GUARDAR": "NULL",
                                    "INVITAR_A_LA_CAMPAÑA": "प्रोफ़ाइल देखें",
                                    "Subscribers": "9600000",
                                    "TotalViews": "4618706674",
                                    "TotalVideos": "5268"
                                },
                                {
                                    "Name": "Sky News @UCoMdktPbSTixAyNGwb-UYkQ",
                                    "SEGUIDORES": "5.2M",
                                    "TP": "-",
                                    "PAÍS": "संयुक्त अधिराज्य",
                                    "TEMA_DE_INFLUENCIA": "NULL",
                                    "ALCANCE_POTENCIAL": "1.5M",
                                    "GUARDAR": "NULL",
                                    "INVITAR_A_LA_CAMPAÑA": "प्रोफ़ाइल देखें",
                                    "Subscribers": "7980000",
                                    "TotalViews": "4624311184",
                                    "TotalVideos": "51770"
                                },
                                {
                                    "Name": "Jarvis @UCvxfEIG3PHpgM0TMJJ_SH-w",
                                    "SEGUIDORES": "5M",
                                    "TP": "0.80%",
                                    "PAÍS": "संयुक्त अधिराज्य",
                                    "TEMA_DE_INFLUENCIA": "NULL",
                                    "ALCANCE_POTENCIAL": "1.5M",
                                    "GUARDAR": "NULL",
                                    "INVITAR_A_LA_CAMPAÑA": "प्रोफ़ाइल देखें",
                                    "Subscribers": "5660000",
                                    "TotalViews": "1723132754",
                                    "TotalVideos": "756"
                                },
                                {
                                    "Name": "Thoughty2 @UCRlICXvO4XR4HMeEB9JjDlA",
                                    "SEGUIDORES": "5M",
                                    "TP": "-",
                                    "PAÍS": "संयुक्त अधिराज्य",
                                    "TEMA_DE_INFLUENCIA": "NULL",
                                    "ALCANCE_POTENCIAL": "1.5M",
                                    "GUARDAR": "NULL",
                                    "INVITAR_A_LA_CAMPAÑA": "प्रोफ़ाइल देखें",
                                    "Subscribers": "5470000",
                                    "TotalViews": "1063887064",
                                    "TotalVideos": "843"
                                },
                                {
                                    "Name": "TheDadLab @thedadlab",
                                    "SEGUIDORES": "5M",
                                    "TP": "-",
                                    "PAÍS": "संयुक्त अधिराज्य",
                                    "TEMA_DE_INFLUENCIA": "NULL",
                                    "ALCANCE_POTENCIAL": "1.5M",
                                    "GUARDAR": "NULL",
                                    "INVITAR_A_LA_CAMPAÑA": "प्रोफ़ाइल देखें",
                                    "Subscribers": "0",
                                    "TotalViews": "0",
                                    "TotalVideos": "0"
                                },
                                {
                                    "Name": "Behzinga @UCHhfSXoDG6gSgpOvLH4wrRw",
                                    "SEGUIDORES": "4.9M",
                                    "TP": "-",
                                    "PAÍS": "संयुक्त अधिराज्य",
                                    "TEMA_DE_INFLUENCIA": "NULL",
                                    "ALCANCE_POTENCIAL": "1.5M",
                                    "GUARDAR": "NULL",
                                    "INVITAR_A_LA_CAMPAÑA": "प्रोफ़ाइल देखें",
                                    "Subscribers": "4960000",
                                    "TotalViews": "581555468",
                                    "TotalVideos": "872"
                                },
                                {
                                    "Name": "BBC Learning English @UCHaHD477h-FeBbVh9Sh7syA",
                                    "SEGUIDORES": "4.8M",
                                    "TP": "-",
                                    "PAÍS": "संयुक्त अधिराज्य",
                                    "TEMA_DE_INFLUENCIA": "NULL",
                                    "ALCANCE_POTENCIAL": "1.4M",
                                    "GUARDAR": "NULL",
                                    "INVITAR_A_LA_CAMPAÑA": "प्रोफ़ाइल देखें",
                                    "Subscribers": "7000000",
                                    "TotalViews": "360258953",
                                    "TotalVideos": "3710"
                                },
                                {
                                    "Name": "Max and Katy @UCvZwcK22QTUaM18KE7mHeNw",
                                    "SEGUIDORES": "4.8M",
                                    "TP": "-",
                                    "PAÍS": "संयुक्त अधिराज्य",
                                    "TEMA_DE_INFLUENCIA": "NULL",
                                    "ALCANCE_POTENCIAL": "1.4M",
                                    "GUARDAR": "NULL",
                                    "INVITAR_A_LA_CAMPAÑA": "प्रोफ़ाइल देखें",
                                    "Subscribers": "4700000",
                                    "TotalViews": "1317509738",
                                    "TotalVideos": "510"
                                },
                                {
                                    "Name": "Man City @UCkzCjdRMrW2vXLx8mvPVLdQ",
                                    "SEGUIDORES": "4.8M",
                                    "TP": "-",
                                    "PAÍS": "संयुक्त अधिराज्य",
                                    "TEMA_DE_INFLUENCIA": "NULL",
                                    "ALCANCE_POTENCIAL": "1.4M",
                                    "GUARDAR": "NULL",
                                    "INVITAR_A_LA_CAMPAÑA": "प्रोफ़ाइल देखें",
                                    "Subscribers": "7670000",
                                    "TotalViews": "2092297702",
                                    "TotalVideos": "8566"
                                },
                                {
                                    "Name": "Wisp @UC0h07r_UgTD0Tc-Dn5XLX3g",
                                    "SEGUIDORES": "4.7M",
                                    "TP": "1.10%",
                                    "PAÍS": "संयुक्त अधिराज्य",
                                    "TEMA_DE_INFLUENCIA": "NULL",
                                    "ALCANCE_POTENCIAL": "1.4M",
                                    "GUARDAR": "NULL",
                                    "INVITAR_A_LA_CAMPAÑA": "प्रोफ़ाइल देखें",
                                    "Subscribers": "5320000",
                                    "TotalViews": "1127455008",
                                    "TotalVideos": "544"
                                },
                                {
                                    "Name": "WillNE @UCaFUrR3oSxOl5Y9y6tvLTEg",
                                    "SEGUIDORES": "4.7M",
                                    "TP": "2.40%",
                                    "PAÍS": "संयुक्त अधिराज्य",
                                    "TEMA_DE_INFLUENCIA": "NULL",
                                    "ALCANCE_POTENCIAL": "1.4M",
                                    "GUARDAR": "NULL",
                                    "INVITAR_A_LA_CAMPAÑA": "प्रोफ़ाइल देखें",
                                    "Subscribers": "5050000",
                                    "TotalViews": "869061847",
                                    "TotalVideos": "306"
                                },
                                {
                                    "Name": "Zerkaa @UChntGq8THlUokhc1tT-M2wA",
                                    "SEGUIDORES": "4.7M",
                                    "TP": "2.30%",
                                    "PAÍS": "संयुक्त अधिराज्य",
                                    "TEMA_DE_INFLUENCIA": "NULL",
                                    "ALCANCE_POTENCIAL": "1.4M",
                                    "GUARDAR": "NULL",
                                    "INVITAR_A_LA_CAMPAÑA": "प्रोफ़ाइल देखें",
                                    "Subscribers": "4710000",
                                    "TotalViews": "868159188",
                                    "TotalVideos": "2029"
                                },
                                {
                                    "Name": "Ben Phillips @UChoQQRDf-zU1h6_YjKkWvdw",
                                    "SEGUIDORES": "4.6M",
                                    "TP": "-",
                                    "PAÍS": "संयुक्त अधिराज्य",
                                    "TEMA_DE_INFLUENCIA": "NULL",
                                    "ALCANCE_POTENCIAL": "1.4M",
                                    "GUARDAR": "NULL",
                                    "INVITAR_A_LA_CAMPAÑA": "प्रोफ़ाइल देखें",
                                    "Subscribers": "4530000",
                                    "TotalViews": "1279446232",
                                    "TotalVideos": "865"
                                },
                                {
                                    "Name": "Roxxsaurus @UCBKFH7bU2ebvO68FtuGjyyw",
                                    "SEGUIDORES": "4.5M",
                                    "TP": "-",
                                    "PAÍS": "संयुक्त अधिराज्य",
                                    "TEMA_DE_INFLUENCIA": "NULL",
                                    "ALCANCE_POTENCIAL": "1.4M",
                                    "GUARDAR": "NULL",
                                    "INVITAR_A_LA_CAMPAÑA": "प्रोफ़ाइल देखें",
                                    "Subscribers": "4570000",
                                    "TotalViews": "546098524",
                                    "TotalVideos": "977"
                                }
                            ]
                        },
                        "text/html": [
                            "<table>",
                            "<tr><th>Name</th><th>SEGUIDORES</th><th>TP</th><th>PAÍS</th><th>TEMA_DE_INFLUENCIA</th><th>ALCANCE_POTENCIAL</th><th>GUARDAR</th><th>INVITAR_A_LA_CAMPAÑA</th><th>Subscribers</th><th>TotalViews</th><th>TotalVideos</th></tr>",
                            "<tr><td>NoCopyrightSounds @UC_aEa8K-EOJ3D6gOs7HcyNg</td><td>32.9M</td><td>-</td><td>Reino Unido</td><td>Música</td><td>9.9M</td><td>NULL</td><td>Ver Perfil</td><td>33800000</td><td>11293031910</td><td>1775</td></tr>",
                            "<tr><td>DanTDM @UCS5Oz6CHmeoF7vSad0qqXfw</td><td>26.3M</td><td>-</td><td>Reino Unido</td><td>NULL</td><td>7.9M</td><td>NULL</td><td>Ver Perfil</td><td>28900000</td><td>19958839607</td><td>3725</td></tr>",
                            "<tr><td>KSI @UCVtFOytbRpEvzLjvqGG5gxQ</td><td>24M</td><td>-</td><td>Reino Unido</td><td>NULL</td><td>7.2M</td><td>NULL</td><td>Ver Perfil</td><td>24100000</td><td>6015064768</td><td>1253</td></tr>",
                            "<tr><td>Mister Max @UC_8PAD0Qmi6_gpe77S1Atgg</td><td>23M</td><td>0.10%</td><td>Reino Unido</td><td>NULL</td><td>6.9M</td><td>NULL</td><td>Ver Perfil</td><td>24700000</td><td>16210271506</td><td>1160</td></tr>",
                            "<tr><td>Jelly @UC0DZmkupLYwc0yDsfocLh0A</td><td>22.9M</td><td>-</td><td>Reino Unido</td><td>NULL</td><td>6.9M</td><td>NULL</td><td>Ver Perfil</td><td>23600000</td><td>15175766006</td><td>6550</td></tr>",
                            "<tr><td>Miss Katy @UCcartHVtvAUzfajflyeT_Gg</td><td>22.6M</td><td>-</td><td>Reino Unido</td><td>NULL</td><td>6.8M</td><td>NULL</td><td>Ver Perfil</td><td>24900000</td><td>15845372343</td><td>1109</td></tr>",
                            "<tr><td>Dua Lipa @UC-J-KZfRV8c13fOCkhXdLiQ</td><td>21.1M</td><td>-</td><td>Reino Unido</td><td>NULL</td><td>6.3M</td><td>NULL</td><td>Ver Perfil</td><td>23700000</td><td>13585807265</td><td>280</td></tr>",
                            "<tr><td>Dan Rhodes @UC6D1L2vxEAg_Vi0JSxMBDgA</td><td>17.7M</td><td>0.30%</td><td>Reino Unido</td><td>NULL</td><td>5.3M</td><td>NULL</td><td>Ver Perfil</td><td>27200000</td><td>19047859769</td><td>1670</td></tr>",
                            "<tr><td>Ali-A @UCYVinkwSX7szARULgYpvhLw</td><td>17.7M</td><td>-</td><td>Reino Unido</td><td>NULL</td><td>5.3M</td><td>NULL</td><td>Ver Perfil</td><td>19100000</td><td>6606237538</td><td>4432</td></tr>",
                            "<tr><td>Gaby and Alex @UCHwBjRoGO1V-H8QYXjSVHkQ</td><td>17M</td><td>-</td><td>Reino Unido</td><td>NULL</td><td>5.1M</td><td>NULL</td><td>Ver Perfil</td><td>17200000</td><td>8809325122</td><td>368</td></tr>",
                            "<tr><td>Sidemen @sidemen</td><td>17M</td><td>2.80%</td><td>Reino Unido</td><td>NULL</td><td>5.1M</td><td>NULL</td><td>Ver Perfil</td><td>0</td><td>0</td><td>0</td></tr>",
                            "<tr><td>Queen Official @UCiMhD4jzUqG-IgPzUmmytRQ</td><td>16.3M</td><td>-</td><td>Reino Unido</td><td>NULL</td><td>4.9M</td><td>NULL</td><td>Ver Perfil</td><td>17900000</td><td>11631611499</td><td>1223</td></tr>",
                            "<tr><td>Little Mix @UCIvqWqjC4aLvp7zI8hzARrA</td><td>16.1M</td><td>-</td><td>Reino Unido</td><td>NULL</td><td>4.8M</td><td>NULL</td><td>Ver Perfil</td><td>16400000</td><td>7996501022</td><td>278</td></tr>",
                            "<tr><td>JJ Olatunji @UCGmnsW623G1r-Chmo5RB4Yw</td><td>15.9M</td><td>-</td><td>Reino Unido</td><td>NULL</td><td>4.8M</td><td>NULL</td><td>Ver Perfil</td><td>16300000</td><td>4331813752</td><td>1377</td></tr>",
                            "<tr><td>F2Freestylers - Ultimate Soccer Skills Channel @UCKvn9VBLAiLiYL4FFJHri6g</td><td>14M</td><td>0.20%</td><td>Reino Unido</td><td>Celebridad</td><td>4.2M</td><td>NULL</td><td>Ver Perfil</td><td>14000000</td><td>3362724578</td><td>782</td></tr>",
                            "<tr><td>BBC News @UC16niRr50-MSBwiO3YDb3RA</td><td>13.3M</td><td>-</td><td>Reino Unido</td><td>NULL</td><td>4M</td><td>NULL</td><td>Ver Perfil</td><td>16500000</td><td>5520751877</td><td>22795</td></tr>",
                            "<tr><td>BBC @UCCj956IF62FbT7Gouszaj9w</td><td>12.9M</td><td>-</td><td>Reino Unido</td><td>NULL</td><td>3.9M</td><td>NULL</td><td>Ver Perfil</td><td>14400000</td><td>10639330502</td><td>20157</td></tr>",
                            "<tr><td>Awakening Music @UCBq5hp6DvwWam2XOXw6lYJA</td><td>12.4M</td><td>-</td><td>संयुक्त अधिराज्य</td><td>सङ्गीत</td><td>3.7M</td><td>NULL</td><td>प्रोफ़ाइल देखें</td><td>14200000</td><td>6051493155</td><td>956</td></tr>",
                            "<tr><td>DisneyChannelUK @UCLeuoGy_hUDTBf5Hk0ynrpQ</td><td>12.3M</td><td>-</td><td>संयुक्त अधिराज्य</td><td>NULL</td><td>3.7M</td><td>NULL</td><td>प्रोफ़ाइल देखें</td><td>13200000</td><td>13643137975</td><td>4549</td></tr>",
                            "<tr><td>colinfurze @UCp68_FLety0O-n9QU6phsgw</td><td>11.9M</td><td>0.60%</td><td>संयुक्त अधिराज्य</td><td>NULL</td><td>3.6M</td><td>NULL</td><td>प्रोफ़ाइल देखें</td><td>13000000</td><td>1794282887</td><td>405</td></tr>",
                            "<tr><td>Mrwhosetheboss @UCMiJRAwDNSNzuYeN2uWa0pA</td><td>11.8M</td><td>1.90%</td><td>संयुक्त अधिराज्य</td><td>NULL</td><td>3.5M</td><td>NULL</td><td>प्रोफ़ाइल देखें</td><td>19400000</td><td>5867581646</td><td>1722</td></tr>",
                            "<tr><td>TommyInnit @UC5p_l5ZeB_wGjO_yDXwiqvw</td><td>11.7M</td><td>-</td><td>संयुक्त अधिराज्य</td><td>NULL</td><td>3.5M</td><td>NULL</td><td>प्रोफ़ाइल देखें</td><td>15000000</td><td>2460308744</td><td>481</td></tr>",
                            "<tr><td>Morgz @UCBwSufNse8VMBvQM_rCSvgQ</td><td>11.6M</td><td>0.10%</td><td>संयुक्त अधिराज्य</td><td>NULL</td><td>3.5M</td><td>NULL</td><td>प्रोफ़ाइल देखें</td><td>12700000</td><td>3553469633</td><td>850</td></tr>",
                            "<tr><td>Tiana @UC6sSkkemzPjmrzS0Y0V_2zw</td><td>11.4M</td><td>-</td><td>संयुक्त अधिराज्य</td><td>NULL</td><td>3.4M</td><td>NULL</td><td>प्रोफ़ाइल देखें</td><td>11400000</td><td>3251233360</td><td>1048</td></tr>",
                            "<tr><td>DisneyJuniorUK @UC7Gf2tZ8coTX2ckTPgn62iQ</td><td>11.2M</td><td>-</td><td>संयुक्त अधिराज्य</td><td>NULL</td><td>3.4M</td><td>NULL</td><td>प्रोफ़ाइल देखें</td><td>12700000</td><td>12793124032</td><td>3146</td></tr>",
                            "<tr><td>Emily Tube @UC-0D1RlSzcvBoODCKSoLl2g</td><td>11M</td><td>-</td><td>संयुक्त अधिराज्य</td><td>NULL</td><td>3.3M</td><td>NULL</td><td>प्रोफ़ाइल देखें</td><td>11100000</td><td>3752510896</td><td>718</td></tr>",
                            "<tr><td>Slogo @UCHdMK5Ef2El8KbD3L_WgANg</td><td>10.9M</td><td>-</td><td>संयुक्त अधिराज्य</td><td>NULL</td><td>3.3M</td><td>NULL</td><td>प्रोफ़ाइल देखें</td><td>11800000</td><td>9103089536</td><td>6487</td></tr>",
                            "<tr><td>Jessie J @UC4pEp0mo54WhEBCTYvjVDJA</td><td>10.4M</td><td>-</td><td>संयुक्त अधिराज्य</td><td>NULL</td><td>3.1M</td><td>NULL</td><td>प्रोफ़ाइल देखें</td><td>10600000</td><td>5853755808</td><td>96</td></tr>",
                            "<tr><td>Sing King @UCwTRjvjVge51X-ILJ4i22ew</td><td>10.2M</td><td>-</td><td>संयुक्त अधिराज्य</td><td>NULL</td><td>3.1M</td><td>NULL</td><td>प्रोफ़ाइल देखें</td><td>12300000</td><td>8372986919</td><td>4514</td></tr>",
                            "<tr><td>BBC News عربي @UCelk6aHijZq-GJBBB9YpReA</td><td>10.1M</td><td>-</td><td>संयुक्त अधिराज्य</td><td>NULL</td><td>3M</td><td>NULL</td><td>प्रोफ़ाइल देखें</td><td>11700000</td><td>5004214378</td><td>41745</td></tr>",
                            "<tr><td>Classic Mr Bean @UCEwIUtFBhaI2L2PuKv0KL2g</td><td>9.9M</td><td>-</td><td>संयुक्त अधिराज्य</td><td>NULL</td><td>3M</td><td>NULL</td><td>प्रोफ़ाइल देखें</td><td>10600000</td><td>3431765246</td><td>1854</td></tr>",
                            "<tr><td>Syndicate @UC1ieoHqKW-yYgDhLHIcx28w</td><td>9.7M</td><td>-</td><td>संयुक्त अधिराज्य</td><td>NULL</td><td>2.9M</td><td>NULL</td><td>प्रोफ़ाइल देखें</td><td>9590000</td><td>2135513622</td><td>3531</td></tr>",
                            "<tr><td>Gorillaz @UCfIXdjDQH9Fau7y99_Orpjw</td><td>9.4M</td><td>0.10%</td><td>संयुक्त अधिराज्य</td><td>NULL</td><td>2.8M</td><td>NULL</td><td>प्रोफ़ाइल देखें</td><td>11100000</td><td>6049269435</td><td>363</td></tr>",
                            "<tr><td>Woody &amp; Kleiny @UCoGForHQAmk0_9rI9CABeYw</td><td>9.4M</td><td>1.10%</td><td>संयुक्त अधिराज्य</td><td>NULL</td><td>2.8M</td><td>NULL</td><td>प्रोफ़ाइल देखें</td><td>15700000</td><td>14730604851</td><td>1191</td></tr>",
                            "<tr><td>Jungle Beat @UChUHOEe7zgYmrv7a_LlpNng</td><td>9.3M</td><td>-</td><td>संयुक्त अधिराज्य</td><td>यात्रा</td><td>2.8M</td><td>NULL</td><td>प्रोफ़ाइल देखें</td><td>12000000</td><td>6061621453</td><td>897</td></tr>",
                            "<tr><td>Julius Dein @juliusdein</td><td>9.2M</td><td>-</td><td>संयुक्त अधिराज्य</td><td>NULL</td><td>2.8M</td><td>NULL</td><td>प्रोफ़ाइल देखें</td><td>0</td><td>0</td><td>0</td></tr>",
                            "<tr><td>The X Factor UK @UCEY1ejsweY4DgMwOVJeEaBA</td><td>9.1M</td><td>0.10%</td><td>संयुक्त अधिराज्य</td><td>NULL</td><td>2.7M</td><td>NULL</td><td>प्रोफ़ाइल देखें</td><td>9200000</td><td>7039090466</td><td>5584</td></tr>",
                            "<tr><td>English with Lucy @UCz4tgANd4yy8Oe0iXCdSWfA</td><td>9M</td><td>-</td><td>संयुक्त अधिराज्य</td><td>NULL</td><td>2.7M</td><td>NULL</td><td>प्रोफ़ाइल देखें</td><td>11400000</td><td>525614783</td><td>400</td></tr>",
                            "<tr><td>Shaun the Sheep @UCS7H8U-n5mINVJjJsaRtGHg</td><td>8.9M</td><td>-</td><td>संयुक्त अधिराज्य</td><td>NULL</td><td>2.7M</td><td>NULL</td><td>प्रोफ़ाइल देखें</td><td>12300000</td><td>6627281914</td><td>984</td></tr>",
                            "<tr><td>Cartoons for Kids @UC977n5nXRn8MDuGQjwxkOLw</td><td>8.7M</td><td>-</td><td>संयुक्त अधिराज्य</td><td>NULL</td><td>2.6M</td><td>NULL</td><td>प्रोफ़ाइल देखें</td><td>9040000</td><td>3444854594</td><td>2605</td></tr>",
                            "<tr><td>Mumbo Jumbo @UChFur_NwVSbUozOcF_F2kMg</td><td>8.5M</td><td>1.70%</td><td>संयुक्त अधिराज्य</td><td>भिडियो गेमिङ</td><td>2.6M</td><td>NULL</td><td>प्रोफ़ाइल देखें</td><td>9440000</td><td>3122938724</td><td>2096</td></tr>",
                            "<tr><td>Top Gear @UCjOl2AUblVmg2rA_cRgZkFg</td><td>8.4M</td><td>-</td><td>संयुक्त अधिराज्य</td><td>NULL</td><td>2.5M</td><td>NULL</td><td>प्रोफ़ाइल देखें</td><td>9060000</td><td>4044979931</td><td>1932</td></tr>",
                            "<tr><td>Moonbug Kids - Kids Learning Videos @UC1QqdFv5e9QSEi0eYdfwuqw</td><td>8.3M</td><td>-</td><td>संयुक्त अधिराज्य</td><td>NULL</td><td>2.5M</td><td>NULL</td><td>प्रोफ़ाइल देखें</td><td>12200000</td><td>8945702381</td><td>1680</td></tr>",
                            "<tr><td>BBC Radio 1 @UC-FQUIVQ-bZiefzBiQAa8Fw</td><td>8.1M</td><td>-</td><td>संयुक्त अधिराज्य</td><td>NULL</td><td>2.4M</td><td>NULL</td><td>प्रोफ़ाइल देखें</td><td>8290000</td><td>3789746136</td><td>4937</td></tr>",
                            "<tr><td>Liverpool FC @liverpoolfc</td><td>8M</td><td>-</td><td>संयुक्त अधिराज्य</td><td>NULL</td><td>2.4M</td><td>NULL</td><td>प्रोफ़ाइल देखें</td><td>0</td><td>0</td><td>0</td></tr>",
                            "<tr><td>Grian @UCR9Gcq0CMm6YgTzsDxAxjOQ</td><td>7.8M</td><td>1.80%</td><td>संयुक्त अधिराज्य</td><td>NULL</td><td>2.3M</td><td>NULL</td><td>प्रोफ़ाइल देखें</td><td>8600000</td><td>2507789447</td><td>765</td></tr>",
                            "<tr><td>Daz Games @UCDBCCMlFD-hArPbWv38FINA</td><td>7.6M</td><td>0.30%</td><td>संयुक्त अधिराज्य</td><td>NULL</td><td>2.3M</td><td>NULL</td><td>प्रोफ़ाइल देखें</td><td>8710000</td><td>2792610067</td><td>1597</td></tr>",
                            "<tr><td>Vikkstar123 @UCvwgF_0NOZe2vN4Q3g1bY-A</td><td>7.6M</td><td>-</td><td>संयुक्त अधिराज्य</td><td>NULL</td><td>2.3M</td><td>NULL</td><td>प्रोफ़ाइल देखें</td><td>7600000</td><td>2168400781</td><td>5060</td></tr>",
                            "<tr><td>PlayToys @UCHFA6Nt11kE_8OWIya0SQDQ</td><td>7.6M</td><td>-</td><td>संयुक्त अधिराज्य</td><td>NULL</td><td>2.3M</td><td>NULL</td><td>प्रोफ़ाइल देखें</td><td>7850000</td><td>3074883075</td><td>961</td></tr>",
                            "<tr><td>carwow @UCUhFaUpnq31m6TNX2VKVSVA</td><td>7.5M</td><td>0.20%</td><td>संयुक्त अधिराज्य</td><td>NULL</td><td>2.2M</td><td>NULL</td><td>प्रोफ़ाइल देखें</td><td>9540000</td><td>4131746776</td><td>2813</td></tr>",
                            "<tr><td>Jeremy Lynch @UC5Y1pPVNm-odhiubuRO1D6A</td><td>7.4M</td><td>-</td><td>संयुक्त अधिराज्य</td><td>NULL</td><td>2.2M</td><td>NULL</td><td>प्रोफ़ाइल देखें</td><td>12400000</td><td>6669029131</td><td>829</td></tr>",
                            "<tr><td>TomSka @UCOYWgypDktXdb-HfZnSMK6A</td><td>7.2M</td><td>2.20%</td><td>संयुक्त अधिराज्य</td><td>NULL</td><td>2.2M</td><td>NULL</td><td>प्रोफ़ाइल देखें</td><td>7360000</td><td>2104067024</td><td>180</td></tr>",
                            "<tr><td>YOGSCAST Lewis &amp; Simon @UCH-_hzb2ILSCo9ftVSnrCIQ</td><td>7.1M</td><td>-</td><td>संयुक्त अधिराज्य</td><td>समाचारहरू</td><td>2.1M</td><td>NULL</td><td>प्रोफ़ाइल देखें</td><td>7060000</td><td>4592584356</td><td>6681</td></tr>",
                            "<tr><td>LDShadowLady @UCzTlXb7ivVzuFlugVCv3Kvg</td><td>7M</td><td>-</td><td>संयुक्त अधिराज्य</td><td>भिडियो गेमिङ</td><td>2.1M</td><td>NULL</td><td>प्रोफ़ाइल देखें</td><td>7220000</td><td>3473363066</td><td>1079</td></tr>",
                            "<tr><td>The Beatles @UCc4K7bAqpdBP8jh1j9XZAww</td><td>6.9M</td><td>0.10%</td><td>संयुक्त अधिराज्य</td><td>NULL</td><td>2.1M</td><td>NULL</td><td>प्रोफ़ाइल देखें</td><td>8470000</td><td>7240558202</td><td>328</td></tr>",
                            "<tr><td>Passenger @UCFHtCB_FWXQ8GpjgfYcD8-g</td><td>6.9M</td><td>-</td><td>संयुक्त अधिराज्य</td><td>NULL</td><td>2.1M</td><td>NULL</td><td>प्रोफ़ाइल देखें</td><td>7480000</td><td>4660522352</td><td>392</td></tr>",
                            "<tr><td>MessYourself @UCrSgaO6xOY8YV1EoCbD51HA</td><td>6.9M</td><td>-</td><td>संयुक्त अधिराज्य</td><td>NULL</td><td>2.1M</td><td>NULL</td><td>प्रोफ़ाइल देखें</td><td>6870000</td><td>2578150508</td><td>1068</td></tr>",
                            "<tr><td>MoreSidemen @UCh5mLn90vUaB1PbRRx_AiaA</td><td>6.8M</td><td>0.60%</td><td>संयुक्त अधिराज्य</td><td>NULL</td><td>2M</td><td>NULL</td><td>प्रोफ़ाइल देखें</td><td>8800000</td><td>4636419340</td><td>1097</td></tr>",
                            "<tr><td>Boomerang UK @UCmst562fALOY2cKb4IFgqEg</td><td>6.8M</td><td>-</td><td>संयुक्त अधिराज्य</td><td>NULL</td><td>2M</td><td>NULL</td><td>प्रोफ़ाइल देखें</td><td>7600000</td><td>3793938501</td><td>2467</td></tr>",
                            "<tr><td>James Arthur @UCV5Gw7GGOMxe6SSF6llp_3Q</td><td>6.8M</td><td>-</td><td>संयुक्त अधिराज्य</td><td>NULL</td><td>2M</td><td>NULL</td><td>प्रोफ़ाइल देखें</td><td>7480000</td><td>4592059954</td><td>229</td></tr>",
                            "<tr><td>ARPO The Robot @UCrSx8rek9EuC3YGHvG8aalw</td><td>6.7M</td><td>-</td><td>संयुक्त अधिराज्य</td><td>NULL</td><td>2M</td><td>NULL</td><td>प्रोफ़ाइल देखें</td><td>7750000</td><td>3310403387</td><td>1449</td></tr>",
                            "<tr><td>24 News HD @UCcmpeVbSSQlZRvHfdC-CRwg</td><td>6.7M</td><td>-</td><td>संयुक्त अधिराज्य</td><td>NULL</td><td>2M</td><td>NULL</td><td>प्रोफ़ाइल देखें</td><td>8150000</td><td>3624439122</td><td>175040</td></tr>",
                            "<tr><td>RubyandBonnie @UC_wITz-Ze4JFc3WLQA1n3Hw</td><td>6.6M</td><td>-</td><td>संयुक्त अधिराज्य</td><td>NULL</td><td>2M</td><td>NULL</td><td>प्रोफ़ाइल देखें</td><td>9210000</td><td>5444120183</td><td>662</td></tr>",
                            "<tr><td>Nickelodeon UK @UCHiceVclOIFCgAcveITRLLw</td><td>6.6M</td><td>-</td><td>संयुक्त अधिराज्य</td><td>NULL</td><td>2M</td><td>NULL</td><td>प्रोफ़ाइल देखें</td><td>7150000</td><td>7602265970</td><td>3344</td></tr>",
                            "<tr><td>Mark Ronson @UCSY5V7BJSrxNvvBF0Drslow</td><td>6.5M</td><td>-</td><td>संयुक्त अधिराज्य</td><td>NULL</td><td>2M</td><td>NULL</td><td>प्रोफ़ाइल देखें</td><td>6930000</td><td>6653771118</td><td>20</td></tr>",
                            "<tr><td>Rhia Official @UCQdsJ95w9jh-yB0BA6EDGWA</td><td>6.4M</td><td>-</td><td>संयुक्त अधिराज्य</td><td>NULL</td><td>1.9M</td><td>NULL</td><td>प्रोफ़ाइल देखें</td><td>13600000</td><td>6390951598</td><td>973</td></tr>",
                            "<tr><td>UKF Dubstep @UCfLFTP1uTuIizynWsZq2nkQ</td><td>6.3M</td><td>-</td><td>संयुक्त अधिराज्य</td><td>NULL</td><td>1.9M</td><td>NULL</td><td>प्रोफ़ाइल देखें</td><td>6240000</td><td>2133843365</td><td>1778</td></tr>",
                            "<tr><td>TGFbro @UCOgUcv_9DaivXzsN9mcHIzQ</td><td>6.2M</td><td>0.90%</td><td>संयुक्त अधिराज्य</td><td>NULL</td><td>1.9M</td><td>NULL</td><td>प्रोफ़ाइल देखें</td><td>6160000</td><td>1469759538</td><td>472</td></tr>",
                            "<tr><td>Wilbur Soot @UC1n_PfsVqxllCcnMPlxBIjw</td><td>6.2M</td><td>2.60%</td><td>संयुक्त अधिराज्य</td><td>NULL</td><td>1.9M</td><td>NULL</td><td>प्रोफ़ाइल देखें</td><td>5720000</td><td>798519135</td><td>139</td></tr>",
                            "<tr><td>Russell Brand @UCswH8ovgUp5Bdg-0_JTYFNw</td><td>6.2M</td><td>-</td><td>संयुक्त अधिराज्य</td><td>NULL</td><td>1.9M</td><td>NULL</td><td>प्रोफ़ाइल देखें</td><td>6850000</td><td>1395796453</td><td>3062</td></tr>",
                            "<tr><td>Manchester United @UC6yW44UGJJBvYTlfC7CRg2Q</td><td>6.2M</td><td>0.20%</td><td>संयुक्त अधिराज्य</td><td>NULL</td><td>1.9M</td><td>NULL</td><td>प्रोफ़ाइल देखें</td><td>9350000</td><td>2398716820</td><td>4316</td></tr>",
                            "<tr><td>Pingu - Official Channel @UCM88mtSE0zRTn5ae4EbYcuw</td><td>6.2M</td><td>-</td><td>संयुक्त अधिराज्य</td><td>NULL</td><td>1.8M</td><td>NULL</td><td>प्रोफ़ाइल देखें</td><td>7030000</td><td>2856662305</td><td>682</td></tr>",
                            "<tr><td>Mrwhosetheboss Shorts @UCZSlfzadjnw7G419c_OJ9eg</td><td>6.1M</td><td>-</td><td>संयुक्त अधिराज्य</td><td>NULL</td><td>1.8M</td><td>NULL</td><td>प्रोफ़ाइल देखें</td><td>7140000</td><td>3805670357</td><td>186</td></tr>",
                            "<tr><td>Niko Omilana @UCdcUmdOxMrhRjKMw-BX19AA</td><td>6M</td><td>16.20%</td><td>संयुक्त अधिराज्य</td><td>NULL</td><td>1.8M</td><td>NULL</td><td>प्रोफ़ाइल देखें</td><td>7650000</td><td>639829658</td><td>142</td></tr>",
                            "<tr><td>Tiana Wilson @UC7_yh9PEDpaqp34QtGO-_Yw</td><td>5.9M</td><td>-</td><td>संयुक्त अधिराज्य</td><td>NULL</td><td>1.8M</td><td>NULL</td><td>प्रोफ़ाइल देखें</td><td>5850000</td><td>1648116162</td><td>429</td></tr>",
                            "<tr><td>Capital FM @UCZzwjZPc6R_PbnDgFVMwlvQ</td><td>5.8M</td><td>-</td><td>संयुक्त अधिराज्य</td><td>NULL</td><td>1.7M</td><td>NULL</td><td>प्रोफ़ाइल देखें</td><td>6210000</td><td>3645641747</td><td>2692</td></tr>",
                            "<tr><td>Simon&#39;s Cat @UCH6vXjt-BA7QHl0KnfL-7RQ</td><td>5.8M</td><td>0.30%</td><td>संयुक्त अधिराज्य</td><td>NULL</td><td>1.7M</td><td>NULL</td><td>प्रोफ़ाइल देखें</td><td>6280000</td><td>1607423488</td><td>523</td></tr>",
                            "<tr><td>CGP Grey @UC2C_jShtL725hvbm1arSV9w</td><td>5.8M</td><td>-</td><td>संयुक्त अधिराज्य</td><td>NULL</td><td>1.7M</td><td>NULL</td><td>प्रोफ़ाइल देखें</td><td>6440000</td><td>1058122302</td><td>188</td></tr>",
                            "<tr><td>Jamie Oliver @UCpSgg_ECBj25s9moCDfSTsA</td><td>5.8M</td><td>-</td><td>संयुक्त अधिराज्य</td><td>NULL</td><td>1.7M</td><td>NULL</td><td>प्रोफ़ाइल देखें</td><td>5950000</td><td>976588378</td><td>2178</td></tr>",
                            "<tr><td>ChrisMD @sirhcchris2010</td><td>5.6M</td><td>2.20%</td><td>संयुक्त अधिराज्य</td><td>NULL</td><td>1.7M</td><td>NULL</td><td>प्रोफ़ाइल देखें</td><td>0</td><td>0</td><td>0</td></tr>",
                            "<tr><td>Dumori Bay @UC-VDfQNL-S44eZscGlXI14g</td><td>5.6M</td><td>-</td><td>संयुक्त अधिराज्य</td><td>NULL</td><td>1.7M</td><td>NULL</td><td>प्रोफ़ाइल देखें</td><td>5320000</td><td>1135071</td><td>225</td></tr>",
                            "<tr><td>Space Videos @UCakgsb0w7QB0VHdnCc-OVEA</td><td>5.5M</td><td>-</td><td>संयुक्त अधिराज्य</td><td>NULL</td><td>1.7M</td><td>NULL</td><td>प्रोफ़ाइल देखें</td><td>5620000</td><td>115203284</td><td>121</td></tr>",
                            "<tr><td>Real Stories @UCu4XcDBdnZkV6-5z2f16M0g</td><td>5.5M</td><td>-</td><td>संयुक्त अधिराज्य</td><td>प्रसिद्धि</td><td>1.7M</td><td>NULL</td><td>प्रोफ़ाइल देखें</td><td>6390000</td><td>1185358242</td><td>1130</td></tr>",
                            "<tr><td>More Emily @UCO66lK14MYiXlu0A6pQ4ouA</td><td>5.4M</td><td>-</td><td>संयुक्त अधिराज्य</td><td>NULL</td><td>1.6M</td><td>NULL</td><td>प्रोफ़ाइल देखें</td><td>5270000</td><td>1481136558</td><td>634</td></tr>",
                            "<tr><td>GRM Daily @UCqTwKvjbTENZDGbz2si47ag</td><td>5.3M</td><td>-</td><td>संयुक्त अधिराज्य</td><td>NULL</td><td>1.6M</td><td>NULL</td><td>प्रोफ़ाइल देखें</td><td>6410000</td><td>7709031500</td><td>15084</td></tr>",
                            "<tr><td>Joe Weller @UCLk9wddjT0F-HILLRFXodtg</td><td>5.3M</td><td>1.90%</td><td>संयुक्त अधिराज्य</td><td>NULL</td><td>1.6M</td><td>NULL</td><td>प्रोफ़ाइल देखें</td><td>5300000</td><td>1020276687</td><td>322</td></tr>",
                            "<tr><td>WildBrain Kids @UCbmWOFTbZoDLWqG1rvFnJ0g</td><td>5.2M</td><td>-</td><td>संयुक्त अधिराज्य</td><td>प्रसिद्धि</td><td>1.6M</td><td>NULL</td><td>प्रोफ़ाइल देखें</td><td>9600000</td><td>4618706674</td><td>5268</td></tr>",
                            "<tr><td>Sky News @UCoMdktPbSTixAyNGwb-UYkQ</td><td>5.2M</td><td>-</td><td>संयुक्त अधिराज्य</td><td>NULL</td><td>1.5M</td><td>NULL</td><td>प्रोफ़ाइल देखें</td><td>7980000</td><td>4624311184</td><td>51770</td></tr>",
                            "<tr><td>Jarvis @UCvxfEIG3PHpgM0TMJJ_SH-w</td><td>5M</td><td>0.80%</td><td>संयुक्त अधिराज्य</td><td>NULL</td><td>1.5M</td><td>NULL</td><td>प्रोफ़ाइल देखें</td><td>5660000</td><td>1723132754</td><td>756</td></tr>",
                            "<tr><td>Thoughty2 @UCRlICXvO4XR4HMeEB9JjDlA</td><td>5M</td><td>-</td><td>संयुक्त अधिराज्य</td><td>NULL</td><td>1.5M</td><td>NULL</td><td>प्रोफ़ाइल देखें</td><td>5470000</td><td>1063887064</td><td>843</td></tr>",
                            "<tr><td>TheDadLab @thedadlab</td><td>5M</td><td>-</td><td>संयुक्त अधिराज्य</td><td>NULL</td><td>1.5M</td><td>NULL</td><td>प्रोफ़ाइल देखें</td><td>0</td><td>0</td><td>0</td></tr>",
                            "<tr><td>Behzinga @UCHhfSXoDG6gSgpOvLH4wrRw</td><td>4.9M</td><td>-</td><td>संयुक्त अधिराज्य</td><td>NULL</td><td>1.5M</td><td>NULL</td><td>प्रोफ़ाइल देखें</td><td>4960000</td><td>581555468</td><td>872</td></tr>",
                            "<tr><td>BBC Learning English @UCHaHD477h-FeBbVh9Sh7syA</td><td>4.8M</td><td>-</td><td>संयुक्त अधिराज्य</td><td>NULL</td><td>1.4M</td><td>NULL</td><td>प्रोफ़ाइल देखें</td><td>7000000</td><td>360258953</td><td>3710</td></tr>",
                            "<tr><td>Max and Katy @UCvZwcK22QTUaM18KE7mHeNw</td><td>4.8M</td><td>-</td><td>संयुक्त अधिराज्य</td><td>NULL</td><td>1.4M</td><td>NULL</td><td>प्रोफ़ाइल देखें</td><td>4700000</td><td>1317509738</td><td>510</td></tr>",
                            "<tr><td>Man City @UCkzCjdRMrW2vXLx8mvPVLdQ</td><td>4.8M</td><td>-</td><td>संयुक्त अधिराज्य</td><td>NULL</td><td>1.4M</td><td>NULL</td><td>प्रोफ़ाइल देखें</td><td>7670000</td><td>2092297702</td><td>8566</td></tr>",
                            "<tr><td>Wisp @UC0h07r_UgTD0Tc-Dn5XLX3g</td><td>4.7M</td><td>1.10%</td><td>संयुक्त अधिराज्य</td><td>NULL</td><td>1.4M</td><td>NULL</td><td>प्रोफ़ाइल देखें</td><td>5320000</td><td>1127455008</td><td>544</td></tr>",
                            "<tr><td>WillNE @UCaFUrR3oSxOl5Y9y6tvLTEg</td><td>4.7M</td><td>2.40%</td><td>संयुक्त अधिराज्य</td><td>NULL</td><td>1.4M</td><td>NULL</td><td>प्रोफ़ाइल देखें</td><td>5050000</td><td>869061847</td><td>306</td></tr>",
                            "<tr><td>Zerkaa @UChntGq8THlUokhc1tT-M2wA</td><td>4.7M</td><td>2.30%</td><td>संयुक्त अधिराज्य</td><td>NULL</td><td>1.4M</td><td>NULL</td><td>प्रोफ़ाइल देखें</td><td>4710000</td><td>868159188</td><td>2029</td></tr>",
                            "<tr><td>Ben Phillips @UChoQQRDf-zU1h6_YjKkWvdw</td><td>4.6M</td><td>-</td><td>संयुक्त अधिराज्य</td><td>NULL</td><td>1.4M</td><td>NULL</td><td>प्रोफ़ाइल देखें</td><td>4530000</td><td>1279446232</td><td>865</td></tr>",
                            "<tr><td>Roxxsaurus @UCBKFH7bU2ebvO68FtuGjyyw</td><td>4.5M</td><td>-</td><td>संयुक्त अधिराज्य</td><td>NULL</td><td>1.4M</td><td>NULL</td><td>प्रोफ़ाइल देखें</td><td>4570000</td><td>546098524</td><td>977</td></tr>",
                            "</table>"
                        ]
                    }
                }
            ],
            "execution_count": 1
        },
        {
            "cell_type": "code",
            "source": [
                "DELETE \n",
                "    FROM channel_statistics\n",
                "WHERE \n",
                "    Subscribers = 0;"
            ],
            "metadata": {
                "language": "sql",
                "azdata_cell_guid": "31bb1080-7adc-463f-8a8c-9dd7f62011be"
            },
            "outputs": [
                {
                    "output_type": "display_data",
                    "data": {
                        "text/html": "(0 rows affected)"
                    },
                    "metadata": {}
                },
                {
                    "output_type": "display_data",
                    "data": {
                        "text/html": "(95 rows affected)"
                    },
                    "metadata": {}
                },
                {
                    "output_type": "display_data",
                    "data": {
                        "text/html": "Total execution time: 00:00:00.004"
                    },
                    "metadata": {}
                },
                {
                    "output_type": "execute_result",
                    "metadata": {},
                    "execution_count": 6,
                    "data": {
                        "application/vnd.dataresource+json": {
                            "schema": {
                                "fields": [
                                    {
                                        "name": "channel_name"
                                    },
                                    {
                                        "name": "Subscribers"
                                    },
                                    {
                                        "name": "TotalVideos"
                                    },
                                    {
                                        "name": "TotalViews"
                                    }
                                ]
                            },
                            "data": [
                                {
                                    "channel_name": "NoCopyrightSounds ",
                                    "Subscribers": "33800000",
                                    "TotalVideos": "1775",
                                    "TotalViews": "11293031910"
                                },
                                {
                                    "channel_name": "DanTDM ",
                                    "Subscribers": "28900000",
                                    "TotalVideos": "3725",
                                    "TotalViews": "19958839607"
                                },
                                {
                                    "channel_name": "KSI ",
                                    "Subscribers": "24100000",
                                    "TotalVideos": "1253",
                                    "TotalViews": "6015064768"
                                },
                                {
                                    "channel_name": "Mister Max ",
                                    "Subscribers": "24700000",
                                    "TotalVideos": "1160",
                                    "TotalViews": "16210271506"
                                },
                                {
                                    "channel_name": "Jelly ",
                                    "Subscribers": "23600000",
                                    "TotalVideos": "6550",
                                    "TotalViews": "15175766006"
                                },
                                {
                                    "channel_name": "Miss Katy ",
                                    "Subscribers": "24900000",
                                    "TotalVideos": "1109",
                                    "TotalViews": "15845372343"
                                },
                                {
                                    "channel_name": "Dua Lipa ",
                                    "Subscribers": "23700000",
                                    "TotalVideos": "280",
                                    "TotalViews": "13585807265"
                                },
                                {
                                    "channel_name": "Dan Rhodes ",
                                    "Subscribers": "27200000",
                                    "TotalVideos": "1670",
                                    "TotalViews": "19047859769"
                                },
                                {
                                    "channel_name": "Ali-A ",
                                    "Subscribers": "19100000",
                                    "TotalVideos": "4432",
                                    "TotalViews": "6606237538"
                                },
                                {
                                    "channel_name": "Gaby and Alex ",
                                    "Subscribers": "17200000",
                                    "TotalVideos": "368",
                                    "TotalViews": "8809325122"
                                },
                                {
                                    "channel_name": "Queen Official ",
                                    "Subscribers": "17900000",
                                    "TotalVideos": "1223",
                                    "TotalViews": "11631611499"
                                },
                                {
                                    "channel_name": "Little Mix ",
                                    "Subscribers": "16400000",
                                    "TotalVideos": "278",
                                    "TotalViews": "7996501022"
                                },
                                {
                                    "channel_name": "JJ Olatunji ",
                                    "Subscribers": "16300000",
                                    "TotalVideos": "1377",
                                    "TotalViews": "4331813752"
                                },
                                {
                                    "channel_name": "F2Freestylers - Ultimate Soccer Skills Channel ",
                                    "Subscribers": "14000000",
                                    "TotalVideos": "782",
                                    "TotalViews": "3362724578"
                                },
                                {
                                    "channel_name": "BBC News ",
                                    "Subscribers": "16500000",
                                    "TotalVideos": "22795",
                                    "TotalViews": "5520751877"
                                },
                                {
                                    "channel_name": "BBC ",
                                    "Subscribers": "14400000",
                                    "TotalVideos": "20157",
                                    "TotalViews": "10639330502"
                                },
                                {
                                    "channel_name": "Awakening Music ",
                                    "Subscribers": "14200000",
                                    "TotalVideos": "956",
                                    "TotalViews": "6051493155"
                                },
                                {
                                    "channel_name": "DisneyChannelUK ",
                                    "Subscribers": "13200000",
                                    "TotalVideos": "4549",
                                    "TotalViews": "13643137975"
                                },
                                {
                                    "channel_name": "colinfurze ",
                                    "Subscribers": "13000000",
                                    "TotalVideos": "405",
                                    "TotalViews": "1794282887"
                                },
                                {
                                    "channel_name": "Mrwhosetheboss ",
                                    "Subscribers": "19400000",
                                    "TotalVideos": "1722",
                                    "TotalViews": "5867581646"
                                },
                                {
                                    "channel_name": "TommyInnit ",
                                    "Subscribers": "15000000",
                                    "TotalVideos": "481",
                                    "TotalViews": "2460308744"
                                },
                                {
                                    "channel_name": "Morgz ",
                                    "Subscribers": "12700000",
                                    "TotalVideos": "850",
                                    "TotalViews": "3553469633"
                                },
                                {
                                    "channel_name": "Tiana ",
                                    "Subscribers": "11400000",
                                    "TotalVideos": "1048",
                                    "TotalViews": "3251233360"
                                },
                                {
                                    "channel_name": "DisneyJuniorUK ",
                                    "Subscribers": "12700000",
                                    "TotalVideos": "3146",
                                    "TotalViews": "12793124032"
                                },
                                {
                                    "channel_name": "Emily Tube ",
                                    "Subscribers": "11100000",
                                    "TotalVideos": "718",
                                    "TotalViews": "3752510896"
                                },
                                {
                                    "channel_name": "Slogo ",
                                    "Subscribers": "11800000",
                                    "TotalVideos": "6487",
                                    "TotalViews": "9103089536"
                                },
                                {
                                    "channel_name": "Jessie J ",
                                    "Subscribers": "10600000",
                                    "TotalVideos": "96",
                                    "TotalViews": "5853755808"
                                },
                                {
                                    "channel_name": "Sing King ",
                                    "Subscribers": "12300000",
                                    "TotalVideos": "4514",
                                    "TotalViews": "8372986919"
                                },
                                {
                                    "channel_name": "BBC News ???? ",
                                    "Subscribers": "11700000",
                                    "TotalVideos": "41745",
                                    "TotalViews": "5004214378"
                                },
                                {
                                    "channel_name": "Classic Mr Bean ",
                                    "Subscribers": "10600000",
                                    "TotalVideos": "1854",
                                    "TotalViews": "3431765246"
                                },
                                {
                                    "channel_name": "Syndicate ",
                                    "Subscribers": "9590000",
                                    "TotalVideos": "3531",
                                    "TotalViews": "2135513622"
                                },
                                {
                                    "channel_name": "Gorillaz ",
                                    "Subscribers": "11100000",
                                    "TotalVideos": "363",
                                    "TotalViews": "6049269435"
                                },
                                {
                                    "channel_name": "Woody & Kleiny ",
                                    "Subscribers": "15700000",
                                    "TotalVideos": "1191",
                                    "TotalViews": "14730604851"
                                },
                                {
                                    "channel_name": "Jungle Beat ",
                                    "Subscribers": "12000000",
                                    "TotalVideos": "897",
                                    "TotalViews": "6061621453"
                                },
                                {
                                    "channel_name": "The X Factor UK ",
                                    "Subscribers": "9200000",
                                    "TotalVideos": "5584",
                                    "TotalViews": "7039090466"
                                },
                                {
                                    "channel_name": "English with Lucy ",
                                    "Subscribers": "11400000",
                                    "TotalVideos": "400",
                                    "TotalViews": "525614783"
                                },
                                {
                                    "channel_name": "Shaun the Sheep ",
                                    "Subscribers": "12300000",
                                    "TotalVideos": "984",
                                    "TotalViews": "6627281914"
                                },
                                {
                                    "channel_name": "Cartoons for Kids ",
                                    "Subscribers": "9040000",
                                    "TotalVideos": "2605",
                                    "TotalViews": "3444854594"
                                },
                                {
                                    "channel_name": "Mumbo Jumbo ",
                                    "Subscribers": "9440000",
                                    "TotalVideos": "2096",
                                    "TotalViews": "3122938724"
                                },
                                {
                                    "channel_name": "Top Gear ",
                                    "Subscribers": "9060000",
                                    "TotalVideos": "1932",
                                    "TotalViews": "4044979931"
                                },
                                {
                                    "channel_name": "Moonbug Kids - Kids Learning Videos ",
                                    "Subscribers": "12200000",
                                    "TotalVideos": "1680",
                                    "TotalViews": "8945702381"
                                },
                                {
                                    "channel_name": "BBC Radio 1 ",
                                    "Subscribers": "8290000",
                                    "TotalVideos": "4937",
                                    "TotalViews": "3789746136"
                                },
                                {
                                    "channel_name": "Grian ",
                                    "Subscribers": "8600000",
                                    "TotalVideos": "765",
                                    "TotalViews": "2507789447"
                                },
                                {
                                    "channel_name": "Daz Games ",
                                    "Subscribers": "8710000",
                                    "TotalVideos": "1597",
                                    "TotalViews": "2792610067"
                                },
                                {
                                    "channel_name": "Vikkstar123 ",
                                    "Subscribers": "7600000",
                                    "TotalVideos": "5060",
                                    "TotalViews": "2168400781"
                                },
                                {
                                    "channel_name": "PlayToys ",
                                    "Subscribers": "7850000",
                                    "TotalVideos": "961",
                                    "TotalViews": "3074883075"
                                },
                                {
                                    "channel_name": "carwow ",
                                    "Subscribers": "9540000",
                                    "TotalVideos": "2813",
                                    "TotalViews": "4131746776"
                                },
                                {
                                    "channel_name": "Jeremy Lynch ",
                                    "Subscribers": "12400000",
                                    "TotalVideos": "829",
                                    "TotalViews": "6669029131"
                                },
                                {
                                    "channel_name": "TomSka ",
                                    "Subscribers": "7360000",
                                    "TotalVideos": "180",
                                    "TotalViews": "2104067024"
                                },
                                {
                                    "channel_name": "YOGSCAST Lewis & Simon ",
                                    "Subscribers": "7060000",
                                    "TotalVideos": "6681",
                                    "TotalViews": "4592584356"
                                },
                                {
                                    "channel_name": "LDShadowLady ",
                                    "Subscribers": "7220000",
                                    "TotalVideos": "1079",
                                    "TotalViews": "3473363066"
                                },
                                {
                                    "channel_name": "The Beatles ",
                                    "Subscribers": "8470000",
                                    "TotalVideos": "328",
                                    "TotalViews": "7240558202"
                                },
                                {
                                    "channel_name": "Passenger ",
                                    "Subscribers": "7480000",
                                    "TotalVideos": "392",
                                    "TotalViews": "4660522352"
                                },
                                {
                                    "channel_name": "MessYourself ",
                                    "Subscribers": "6870000",
                                    "TotalVideos": "1068",
                                    "TotalViews": "2578150508"
                                },
                                {
                                    "channel_name": "MoreSidemen ",
                                    "Subscribers": "8800000",
                                    "TotalVideos": "1097",
                                    "TotalViews": "4636419340"
                                },
                                {
                                    "channel_name": "Boomerang UK ",
                                    "Subscribers": "7600000",
                                    "TotalVideos": "2467",
                                    "TotalViews": "3793938501"
                                },
                                {
                                    "channel_name": "James Arthur ",
                                    "Subscribers": "7480000",
                                    "TotalVideos": "229",
                                    "TotalViews": "4592059954"
                                },
                                {
                                    "channel_name": "ARPO The Robot ",
                                    "Subscribers": "7750000",
                                    "TotalVideos": "1449",
                                    "TotalViews": "3310403387"
                                },
                                {
                                    "channel_name": "24 News HD ",
                                    "Subscribers": "8150000",
                                    "TotalVideos": "175040",
                                    "TotalViews": "3624439122"
                                },
                                {
                                    "channel_name": "RubyandBonnie ",
                                    "Subscribers": "9210000",
                                    "TotalVideos": "662",
                                    "TotalViews": "5444120183"
                                },
                                {
                                    "channel_name": "Nickelodeon UK ",
                                    "Subscribers": "7150000",
                                    "TotalVideos": "3344",
                                    "TotalViews": "7602265970"
                                },
                                {
                                    "channel_name": "Mark Ronson ",
                                    "Subscribers": "6930000",
                                    "TotalVideos": "20",
                                    "TotalViews": "6653771118"
                                },
                                {
                                    "channel_name": "Rhia Official ",
                                    "Subscribers": "13600000",
                                    "TotalVideos": "973",
                                    "TotalViews": "6390951598"
                                },
                                {
                                    "channel_name": "UKF Dubstep ",
                                    "Subscribers": "6240000",
                                    "TotalVideos": "1778",
                                    "TotalViews": "2133843365"
                                },
                                {
                                    "channel_name": "TGFbro ",
                                    "Subscribers": "6160000",
                                    "TotalVideos": "472",
                                    "TotalViews": "1469759538"
                                },
                                {
                                    "channel_name": "Wilbur Soot ",
                                    "Subscribers": "5720000",
                                    "TotalVideos": "139",
                                    "TotalViews": "798519135"
                                },
                                {
                                    "channel_name": "Russell Brand ",
                                    "Subscribers": "6850000",
                                    "TotalVideos": "3062",
                                    "TotalViews": "1395796453"
                                },
                                {
                                    "channel_name": "Manchester United ",
                                    "Subscribers": "9350000",
                                    "TotalVideos": "4316",
                                    "TotalViews": "2398716820"
                                },
                                {
                                    "channel_name": "Pingu - Official Channel ",
                                    "Subscribers": "7030000",
                                    "TotalVideos": "682",
                                    "TotalViews": "2856662305"
                                },
                                {
                                    "channel_name": "Mrwhosetheboss Shorts ",
                                    "Subscribers": "7140000",
                                    "TotalVideos": "186",
                                    "TotalViews": "3805670357"
                                },
                                {
                                    "channel_name": "Niko Omilana ",
                                    "Subscribers": "7650000",
                                    "TotalVideos": "142",
                                    "TotalViews": "639829658"
                                },
                                {
                                    "channel_name": "Tiana Wilson ",
                                    "Subscribers": "5850000",
                                    "TotalVideos": "429",
                                    "TotalViews": "1648116162"
                                },
                                {
                                    "channel_name": "Capital FM ",
                                    "Subscribers": "6210000",
                                    "TotalVideos": "2692",
                                    "TotalViews": "3645641747"
                                },
                                {
                                    "channel_name": "Simon's Cat ",
                                    "Subscribers": "6280000",
                                    "TotalVideos": "523",
                                    "TotalViews": "1607423488"
                                },
                                {
                                    "channel_name": "CGP Grey ",
                                    "Subscribers": "6440000",
                                    "TotalVideos": "188",
                                    "TotalViews": "1058122302"
                                },
                                {
                                    "channel_name": "Jamie Oliver ",
                                    "Subscribers": "5950000",
                                    "TotalVideos": "2178",
                                    "TotalViews": "976588378"
                                },
                                {
                                    "channel_name": "Dumori Bay ",
                                    "Subscribers": "5320000",
                                    "TotalVideos": "225",
                                    "TotalViews": "1135071"
                                },
                                {
                                    "channel_name": "Space Videos ",
                                    "Subscribers": "5620000",
                                    "TotalVideos": "121",
                                    "TotalViews": "115203284"
                                },
                                {
                                    "channel_name": "Real Stories ",
                                    "Subscribers": "6390000",
                                    "TotalVideos": "1130",
                                    "TotalViews": "1185358242"
                                },
                                {
                                    "channel_name": "More Emily ",
                                    "Subscribers": "5270000",
                                    "TotalVideos": "634",
                                    "TotalViews": "1481136558"
                                },
                                {
                                    "channel_name": "GRM Daily ",
                                    "Subscribers": "6410000",
                                    "TotalVideos": "15084",
                                    "TotalViews": "7709031500"
                                },
                                {
                                    "channel_name": "Joe Weller ",
                                    "Subscribers": "5300000",
                                    "TotalVideos": "322",
                                    "TotalViews": "1020276687"
                                },
                                {
                                    "channel_name": "WildBrain Kids ",
                                    "Subscribers": "9600000",
                                    "TotalVideos": "5268",
                                    "TotalViews": "4618706674"
                                },
                                {
                                    "channel_name": "Sky News ",
                                    "Subscribers": "7980000",
                                    "TotalVideos": "51770",
                                    "TotalViews": "4624311184"
                                },
                                {
                                    "channel_name": "Jarvis ",
                                    "Subscribers": "5660000",
                                    "TotalVideos": "756",
                                    "TotalViews": "1723132754"
                                },
                                {
                                    "channel_name": "Thoughty2 ",
                                    "Subscribers": "5470000",
                                    "TotalVideos": "843",
                                    "TotalViews": "1063887064"
                                },
                                {
                                    "channel_name": "Behzinga ",
                                    "Subscribers": "4960000",
                                    "TotalVideos": "872",
                                    "TotalViews": "581555468"
                                },
                                {
                                    "channel_name": "BBC Learning English ",
                                    "Subscribers": "7000000",
                                    "TotalVideos": "3710",
                                    "TotalViews": "360258953"
                                },
                                {
                                    "channel_name": "Max and Katy ",
                                    "Subscribers": "4700000",
                                    "TotalVideos": "510",
                                    "TotalViews": "1317509738"
                                },
                                {
                                    "channel_name": "Man City ",
                                    "Subscribers": "7670000",
                                    "TotalVideos": "8566",
                                    "TotalViews": "2092297702"
                                },
                                {
                                    "channel_name": "Wisp ",
                                    "Subscribers": "5320000",
                                    "TotalVideos": "544",
                                    "TotalViews": "1127455008"
                                },
                                {
                                    "channel_name": "WillNE ",
                                    "Subscribers": "5050000",
                                    "TotalVideos": "306",
                                    "TotalViews": "869061847"
                                },
                                {
                                    "channel_name": "Zerkaa ",
                                    "Subscribers": "4710000",
                                    "TotalVideos": "2029",
                                    "TotalViews": "868159188"
                                },
                                {
                                    "channel_name": "Ben Phillips ",
                                    "Subscribers": "4530000",
                                    "TotalVideos": "865",
                                    "TotalViews": "1279446232"
                                },
                                {
                                    "channel_name": "Roxxsaurus ",
                                    "Subscribers": "4570000",
                                    "TotalVideos": "977",
                                    "TotalViews": "546098524"
                                }
                            ]
                        },
                        "text/html": [
                            "<table>",
                            "<tr><th>channel_name</th><th>Subscribers</th><th>TotalVideos</th><th>TotalViews</th></tr>",
                            "<tr><td>NoCopyrightSounds </td><td>33800000</td><td>1775</td><td>11293031910</td></tr>",
                            "<tr><td>DanTDM </td><td>28900000</td><td>3725</td><td>19958839607</td></tr>",
                            "<tr><td>KSI </td><td>24100000</td><td>1253</td><td>6015064768</td></tr>",
                            "<tr><td>Mister Max </td><td>24700000</td><td>1160</td><td>16210271506</td></tr>",
                            "<tr><td>Jelly </td><td>23600000</td><td>6550</td><td>15175766006</td></tr>",
                            "<tr><td>Miss Katy </td><td>24900000</td><td>1109</td><td>15845372343</td></tr>",
                            "<tr><td>Dua Lipa </td><td>23700000</td><td>280</td><td>13585807265</td></tr>",
                            "<tr><td>Dan Rhodes </td><td>27200000</td><td>1670</td><td>19047859769</td></tr>",
                            "<tr><td>Ali-A </td><td>19100000</td><td>4432</td><td>6606237538</td></tr>",
                            "<tr><td>Gaby and Alex </td><td>17200000</td><td>368</td><td>8809325122</td></tr>",
                            "<tr><td>Queen Official </td><td>17900000</td><td>1223</td><td>11631611499</td></tr>",
                            "<tr><td>Little Mix </td><td>16400000</td><td>278</td><td>7996501022</td></tr>",
                            "<tr><td>JJ Olatunji </td><td>16300000</td><td>1377</td><td>4331813752</td></tr>",
                            "<tr><td>F2Freestylers - Ultimate Soccer Skills Channel </td><td>14000000</td><td>782</td><td>3362724578</td></tr>",
                            "<tr><td>BBC News </td><td>16500000</td><td>22795</td><td>5520751877</td></tr>",
                            "<tr><td>BBC </td><td>14400000</td><td>20157</td><td>10639330502</td></tr>",
                            "<tr><td>Awakening Music </td><td>14200000</td><td>956</td><td>6051493155</td></tr>",
                            "<tr><td>DisneyChannelUK </td><td>13200000</td><td>4549</td><td>13643137975</td></tr>",
                            "<tr><td>colinfurze </td><td>13000000</td><td>405</td><td>1794282887</td></tr>",
                            "<tr><td>Mrwhosetheboss </td><td>19400000</td><td>1722</td><td>5867581646</td></tr>",
                            "<tr><td>TommyInnit </td><td>15000000</td><td>481</td><td>2460308744</td></tr>",
                            "<tr><td>Morgz </td><td>12700000</td><td>850</td><td>3553469633</td></tr>",
                            "<tr><td>Tiana </td><td>11400000</td><td>1048</td><td>3251233360</td></tr>",
                            "<tr><td>DisneyJuniorUK </td><td>12700000</td><td>3146</td><td>12793124032</td></tr>",
                            "<tr><td>Emily Tube </td><td>11100000</td><td>718</td><td>3752510896</td></tr>",
                            "<tr><td>Slogo </td><td>11800000</td><td>6487</td><td>9103089536</td></tr>",
                            "<tr><td>Jessie J </td><td>10600000</td><td>96</td><td>5853755808</td></tr>",
                            "<tr><td>Sing King </td><td>12300000</td><td>4514</td><td>8372986919</td></tr>",
                            "<tr><td>BBC News ???? </td><td>11700000</td><td>41745</td><td>5004214378</td></tr>",
                            "<tr><td>Classic Mr Bean </td><td>10600000</td><td>1854</td><td>3431765246</td></tr>",
                            "<tr><td>Syndicate </td><td>9590000</td><td>3531</td><td>2135513622</td></tr>",
                            "<tr><td>Gorillaz </td><td>11100000</td><td>363</td><td>6049269435</td></tr>",
                            "<tr><td>Woody &amp; Kleiny </td><td>15700000</td><td>1191</td><td>14730604851</td></tr>",
                            "<tr><td>Jungle Beat </td><td>12000000</td><td>897</td><td>6061621453</td></tr>",
                            "<tr><td>The X Factor UK </td><td>9200000</td><td>5584</td><td>7039090466</td></tr>",
                            "<tr><td>English with Lucy </td><td>11400000</td><td>400</td><td>525614783</td></tr>",
                            "<tr><td>Shaun the Sheep </td><td>12300000</td><td>984</td><td>6627281914</td></tr>",
                            "<tr><td>Cartoons for Kids </td><td>9040000</td><td>2605</td><td>3444854594</td></tr>",
                            "<tr><td>Mumbo Jumbo </td><td>9440000</td><td>2096</td><td>3122938724</td></tr>",
                            "<tr><td>Top Gear </td><td>9060000</td><td>1932</td><td>4044979931</td></tr>",
                            "<tr><td>Moonbug Kids - Kids Learning Videos </td><td>12200000</td><td>1680</td><td>8945702381</td></tr>",
                            "<tr><td>BBC Radio 1 </td><td>8290000</td><td>4937</td><td>3789746136</td></tr>",
                            "<tr><td>Grian </td><td>8600000</td><td>765</td><td>2507789447</td></tr>",
                            "<tr><td>Daz Games </td><td>8710000</td><td>1597</td><td>2792610067</td></tr>",
                            "<tr><td>Vikkstar123 </td><td>7600000</td><td>5060</td><td>2168400781</td></tr>",
                            "<tr><td>PlayToys </td><td>7850000</td><td>961</td><td>3074883075</td></tr>",
                            "<tr><td>carwow </td><td>9540000</td><td>2813</td><td>4131746776</td></tr>",
                            "<tr><td>Jeremy Lynch </td><td>12400000</td><td>829</td><td>6669029131</td></tr>",
                            "<tr><td>TomSka </td><td>7360000</td><td>180</td><td>2104067024</td></tr>",
                            "<tr><td>YOGSCAST Lewis &amp; Simon </td><td>7060000</td><td>6681</td><td>4592584356</td></tr>",
                            "<tr><td>LDShadowLady </td><td>7220000</td><td>1079</td><td>3473363066</td></tr>",
                            "<tr><td>The Beatles </td><td>8470000</td><td>328</td><td>7240558202</td></tr>",
                            "<tr><td>Passenger </td><td>7480000</td><td>392</td><td>4660522352</td></tr>",
                            "<tr><td>MessYourself </td><td>6870000</td><td>1068</td><td>2578150508</td></tr>",
                            "<tr><td>MoreSidemen </td><td>8800000</td><td>1097</td><td>4636419340</td></tr>",
                            "<tr><td>Boomerang UK </td><td>7600000</td><td>2467</td><td>3793938501</td></tr>",
                            "<tr><td>James Arthur </td><td>7480000</td><td>229</td><td>4592059954</td></tr>",
                            "<tr><td>ARPO The Robot </td><td>7750000</td><td>1449</td><td>3310403387</td></tr>",
                            "<tr><td>24 News HD </td><td>8150000</td><td>175040</td><td>3624439122</td></tr>",
                            "<tr><td>RubyandBonnie </td><td>9210000</td><td>662</td><td>5444120183</td></tr>",
                            "<tr><td>Nickelodeon UK </td><td>7150000</td><td>3344</td><td>7602265970</td></tr>",
                            "<tr><td>Mark Ronson </td><td>6930000</td><td>20</td><td>6653771118</td></tr>",
                            "<tr><td>Rhia Official </td><td>13600000</td><td>973</td><td>6390951598</td></tr>",
                            "<tr><td>UKF Dubstep </td><td>6240000</td><td>1778</td><td>2133843365</td></tr>",
                            "<tr><td>TGFbro </td><td>6160000</td><td>472</td><td>1469759538</td></tr>",
                            "<tr><td>Wilbur Soot </td><td>5720000</td><td>139</td><td>798519135</td></tr>",
                            "<tr><td>Russell Brand </td><td>6850000</td><td>3062</td><td>1395796453</td></tr>",
                            "<tr><td>Manchester United </td><td>9350000</td><td>4316</td><td>2398716820</td></tr>",
                            "<tr><td>Pingu - Official Channel </td><td>7030000</td><td>682</td><td>2856662305</td></tr>",
                            "<tr><td>Mrwhosetheboss Shorts </td><td>7140000</td><td>186</td><td>3805670357</td></tr>",
                            "<tr><td>Niko Omilana </td><td>7650000</td><td>142</td><td>639829658</td></tr>",
                            "<tr><td>Tiana Wilson </td><td>5850000</td><td>429</td><td>1648116162</td></tr>",
                            "<tr><td>Capital FM </td><td>6210000</td><td>2692</td><td>3645641747</td></tr>",
                            "<tr><td>Simon&#39;s Cat </td><td>6280000</td><td>523</td><td>1607423488</td></tr>",
                            "<tr><td>CGP Grey </td><td>6440000</td><td>188</td><td>1058122302</td></tr>",
                            "<tr><td>Jamie Oliver </td><td>5950000</td><td>2178</td><td>976588378</td></tr>",
                            "<tr><td>Dumori Bay </td><td>5320000</td><td>225</td><td>1135071</td></tr>",
                            "<tr><td>Space Videos </td><td>5620000</td><td>121</td><td>115203284</td></tr>",
                            "<tr><td>Real Stories </td><td>6390000</td><td>1130</td><td>1185358242</td></tr>",
                            "<tr><td>More Emily </td><td>5270000</td><td>634</td><td>1481136558</td></tr>",
                            "<tr><td>GRM Daily </td><td>6410000</td><td>15084</td><td>7709031500</td></tr>",
                            "<tr><td>Joe Weller </td><td>5300000</td><td>322</td><td>1020276687</td></tr>",
                            "<tr><td>WildBrain Kids </td><td>9600000</td><td>5268</td><td>4618706674</td></tr>",
                            "<tr><td>Sky News </td><td>7980000</td><td>51770</td><td>4624311184</td></tr>",
                            "<tr><td>Jarvis </td><td>5660000</td><td>756</td><td>1723132754</td></tr>",
                            "<tr><td>Thoughty2 </td><td>5470000</td><td>843</td><td>1063887064</td></tr>",
                            "<tr><td>Behzinga </td><td>4960000</td><td>872</td><td>581555468</td></tr>",
                            "<tr><td>BBC Learning English </td><td>7000000</td><td>3710</td><td>360258953</td></tr>",
                            "<tr><td>Max and Katy </td><td>4700000</td><td>510</td><td>1317509738</td></tr>",
                            "<tr><td>Man City </td><td>7670000</td><td>8566</td><td>2092297702</td></tr>",
                            "<tr><td>Wisp </td><td>5320000</td><td>544</td><td>1127455008</td></tr>",
                            "<tr><td>WillNE </td><td>5050000</td><td>306</td><td>869061847</td></tr>",
                            "<tr><td>Zerkaa </td><td>4710000</td><td>2029</td><td>868159188</td></tr>",
                            "<tr><td>Ben Phillips </td><td>4530000</td><td>865</td><td>1279446232</td></tr>",
                            "<tr><td>Roxxsaurus </td><td>4570000</td><td>977</td><td>546098524</td></tr>",
                            "</table>"
                        ]
                    }
                }
            ],
            "execution_count": 6
        },
        {
            "cell_type": "code",
            "source": [
                "CREATE VIEW view_channel_statistics as\n",
                "\n",
                "SELECT \n",
                "    CAST(SUBSTRING(Name, 1, CHARINDEX ('@', Name) -1 ) AS VARCHAR(100)) AS channel_name,\n",
                "    Subscribers,\n",
                "    TotalVideos,\n",
                "    TotalViews\n",
                "FROM \n",
                "    channel_statistics;"
            ],
            "metadata": {
                "language": "sql",
                "azdata_cell_guid": "4d3fdf24-ab3b-4469-8ea9-174c926acba0"
            },
            "outputs": [
                {
                    "output_type": "display_data",
                    "data": {
                        "text/html": "Commands completed successfully."
                    },
                    "metadata": {}
                },
                {
                    "output_type": "display_data",
                    "data": {
                        "text/html": "Total execution time: 00:00:00.034"
                    },
                    "metadata": {}
                }
            ],
            "execution_count": 8
        },
        {
            "cell_type": "markdown",
            "source": [
                "# \\# Data Quality Check"
            ],
            "metadata": {
                "language": "sql",
                "azdata_cell_guid": "687dd701-114d-4e40-a47b-b84a8791828a"
            },
            "attachments": {}
        },
        {
            "cell_type": "code",
            "source": [
                "SELECT \n",
                "    COUNT(*) AS no_of_rows\n",
                "FROM \n",
                "    view_channel_statistics;\n",
                "\n",
                "-- 95 counts mean 5 channel data was not found.\n",
                "\n",
                "SELECT \n",
                "    COUNT(*) AS column_count\n",
                "FROM\n",
                "    INFORMATION_SCHEMA.COLUMNS\n",
                "WHERE \n",
                "    TABLE_NAME = 'view_channel_statistics';\n",
                "\n",
                "-- Data type check\n",
                "\n",
                "SELECT \n",
                "    COLUMN_NAME,\n",
                "    DATA_TYPE\n",
                "FROM\n",
                "    INFORMATION_SCHEMA.COLUMNS\n",
                "WHERE \n",
                "    TABLE_NAME = 'view_channel_statistics';\n",
                "\n",
                "-- Duplicate record check\n",
                "\n",
                "SELECT \n",
                "    channel_name,\n",
                "    COUNT(*) as duplicate_count\n",
                "FROM\n",
                "    view_channel_statistics\n",
                "GROUP BY\n",
                "    channel_name\n",
                "HAVING\n",
                "    COUNT(*) > 1"
            ],
            "metadata": {
                "language": "sql",
                "azdata_cell_guid": "c0339961-d7f1-4582-a163-ad326b641c9a"
            },
            "outputs": [
                {
                    "output_type": "display_data",
                    "data": {
                        "text/html": "(1 row affected)"
                    },
                    "metadata": {}
                },
                {
                    "output_type": "display_data",
                    "data": {
                        "text/html": "(1 row affected)"
                    },
                    "metadata": {}
                },
                {
                    "output_type": "display_data",
                    "data": {
                        "text/html": "(4 rows affected)"
                    },
                    "metadata": {}
                },
                {
                    "output_type": "display_data",
                    "data": {
                        "text/html": "(0 rows affected)"
                    },
                    "metadata": {}
                },
                {
                    "output_type": "display_data",
                    "data": {
                        "text/html": "Total execution time: 00:00:00.038"
                    },
                    "metadata": {}
                },
                {
                    "output_type": "execute_result",
                    "metadata": {},
                    "execution_count": 17,
                    "data": {
                        "application/vnd.dataresource+json": {
                            "schema": {
                                "fields": [
                                    {
                                        "name": "no_of_rows"
                                    }
                                ]
                            },
                            "data": [
                                {
                                    "no_of_rows": "95"
                                }
                            ]
                        },
                        "text/html": [
                            "<table>",
                            "<tr><th>no_of_rows</th></tr>",
                            "<tr><td>95</td></tr>",
                            "</table>"
                        ]
                    }
                },
                {
                    "output_type": "execute_result",
                    "metadata": {},
                    "execution_count": 17,
                    "data": {
                        "application/vnd.dataresource+json": {
                            "schema": {
                                "fields": [
                                    {
                                        "name": "column_count"
                                    }
                                ]
                            },
                            "data": [
                                {
                                    "column_count": "4"
                                }
                            ]
                        },
                        "text/html": [
                            "<table>",
                            "<tr><th>column_count</th></tr>",
                            "<tr><td>4</td></tr>",
                            "</table>"
                        ]
                    }
                },
                {
                    "output_type": "execute_result",
                    "metadata": {},
                    "execution_count": 17,
                    "data": {
                        "application/vnd.dataresource+json": {
                            "schema": {
                                "fields": [
                                    {
                                        "name": "COLUMN_NAME"
                                    },
                                    {
                                        "name": "DATA_TYPE"
                                    }
                                ]
                            },
                            "data": [
                                {
                                    "COLUMN_NAME": "channel_name",
                                    "DATA_TYPE": "varchar"
                                },
                                {
                                    "COLUMN_NAME": "Subscribers",
                                    "DATA_TYPE": "int"
                                },
                                {
                                    "COLUMN_NAME": "TotalVideos",
                                    "DATA_TYPE": "int"
                                },
                                {
                                    "COLUMN_NAME": "TotalViews",
                                    "DATA_TYPE": "bigint"
                                }
                            ]
                        },
                        "text/html": [
                            "<table>",
                            "<tr><th>COLUMN_NAME</th><th>DATA_TYPE</th></tr>",
                            "<tr><td>channel_name</td><td>varchar</td></tr>",
                            "<tr><td>Subscribers</td><td>int</td></tr>",
                            "<tr><td>TotalVideos</td><td>int</td></tr>",
                            "<tr><td>TotalViews</td><td>bigint</td></tr>",
                            "</table>"
                        ]
                    }
                },
                {
                    "output_type": "execute_result",
                    "metadata": {},
                    "execution_count": 17,
                    "data": {
                        "application/vnd.dataresource+json": {
                            "schema": {
                                "fields": [
                                    {
                                        "name": "channel_name"
                                    },
                                    {
                                        "name": "duplicate_count"
                                    }
                                ]
                            },
                            "data": []
                        },
                        "text/html": [
                            "<table>",
                            "<tr><th>channel_name</th><th>duplicate_count</th></tr>",
                            "</table>"
                        ]
                    }
                }
            ],
            "execution_count": 17
        },
        {
            "cell_type": "code",
            "source": [
                ""
            ],
            "metadata": {
                "language": "sql",
                "azdata_cell_guid": "5cb72238-c3f2-486b-bec0-360b16719b53",
                "tags": []
            },
            "outputs": [
                {
                    "output_type": "display_data",
                    "data": {
                        "text/html": "(0 rows affected)"
                    },
                    "metadata": {}
                },
                {
                    "output_type": "display_data",
                    "data": {
                        "text/html": "Total execution time: 00:00:00.014"
                    },
                    "metadata": {}
                },
                {
                    "output_type": "execute_result",
                    "metadata": {},
                    "execution_count": 16,
                    "data": {
                        "application/vnd.dataresource+json": {
                            "schema": {
                                "fields": [
                                    {
                                        "name": "channel_name"
                                    },
                                    {
                                        "name": "duplicate_count"
                                    }
                                ]
                            },
                            "data": []
                        },
                        "text/html": [
                            "<table>",
                            "<tr><th>channel_name</th><th>duplicate_count</th></tr>",
                            "</table>"
                        ]
                    }
                }
            ],
            "execution_count": 16
        }
    ]
}