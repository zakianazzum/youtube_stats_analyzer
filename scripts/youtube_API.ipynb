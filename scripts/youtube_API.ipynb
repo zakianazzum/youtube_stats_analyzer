{
 "cells": [
  {
   "cell_type": "code",
   "id": "initial_id",
   "metadata": {
    "collapsed": true,
    "ExecuteTime": {
     "end_time": "2024-09-07T14:39:08.347062500Z",
     "start_time": "2024-09-07T14:39:07.651511200Z"
    }
   },
   "source": [
    "import os \n",
    "import pandas as pd\n",
    "from dotenv import load_dotenv\n",
    "from googleapiclient.discovery import build\n",
    "load_dotenv()"
   ],
   "outputs": [
    {
     "data": {
      "text/plain": "True"
     },
     "execution_count": 1,
     "metadata": {},
     "output_type": "execute_result"
    }
   ],
   "execution_count": 1
  },
  {
   "cell_type": "code",
   "source": [
    "#importing dataset\n",
    "data = pd.read_csv(\"../data/ytUK.csv\")"
   ],
   "metadata": {
    "collapsed": false,
    "ExecuteTime": {
     "end_time": "2024-09-07T14:39:08.357376Z",
     "start_time": "2024-09-07T14:39:08.348154800Z"
    }
   },
   "id": "2b1cfe26bddcb96",
   "outputs": [],
   "execution_count": 2
  },
  {
   "cell_type": "code",
   "source": [
    "# Function for fetching necessary data from youtube\n",
    "\n",
    "def youtube_data(df):\n",
    "    api_key = os.getenv('API_KEY')\n",
    "    youtube = build('youtube', 'v3', developerKey=api_key)\n",
    "\n",
    "    # Initializing empty lists to store the results \n",
    "    subscriber_counts = []\n",
    "    total_views = []\n",
    "    video_counts = []\n",
    "    \n",
    "    # Looping through the DataFrame, extracting the channel Od and making API requests\n",
    "    for index, row in df.iterrows():\n",
    "        # Extract the channel ID after the '@'\n",
    "        channel_info = row['Name']\n",
    "        channel_id = channel_info.split('@')[1] if '@' in channel_info else None\n",
    "        \n",
    "        if channel_id:\n",
    "            #Define the parameters for the API request\n",
    "            request = youtube.channels().list(\n",
    "                part='snippet,contentDetails,statistics',\n",
    "                id=channel_id\n",
    "            )\n",
    "            try:\n",
    "                response = request.execute() # Executing the API request\n",
    "            \n",
    "                #  Extracting information from the response\n",
    "                if \"items\" in response and len(response[\"items\"]) > 0:\n",
    "                    channel_info = response[\"items\"][0]\n",
    "\n",
    "                    # Subscriber count, total views and video count\n",
    "                    subscriber_count = channel_info[\"statistics\"].get(\"subscriberCount\", \"Hidden\")\n",
    "                    total_view = channel_info[\"statistics\"].get(\"viewCount\", 0)\n",
    "                    video_count = channel_info[\"statistics\"].get(\"videoCount\", 0)\n",
    "                    \n",
    "                    # Appending the extracted data to the lists\n",
    "                    subscriber_counts.append(subscriber_count)\n",
    "                    total_views.append(total_view)\n",
    "                    video_counts.append(video_count)\n",
    "                else:\n",
    "                    print(f\"Channel ID {channel_id}: No data found\")\n",
    "                    subscriber_counts.append(0)\n",
    "                    total_views.append(0)\n",
    "                    video_counts.append(0)\n",
    "            except Exception as e:\n",
    "                print(f\"Error fetching Data for channel ID {channel_id}: {str(e)}\")\n",
    "                subscriber_counts.append(0)\n",
    "                total_views.append(0)\n",
    "                video_counts.append(0)\n",
    "        else:\n",
    "            # If channel ID is not found, append NA to lists\n",
    "            print(f\"No valid channel ID found for row {index}\")\n",
    "            subscriber_counts.append(0)\n",
    "            total_views.append(0)\n",
    "            video_counts.append(0)\n",
    "            \n",
    "    # Adding the extracted data to the DataFrame\n",
    "    data['Subscribers'] = subscriber_counts\n",
    "    data['TotalViews'] = total_views\n",
    "    data['TotalVideos'] = video_counts\n",
    "    \n",
    "    # Saving the updated Dataframe in csv format\n",
    "    df.to_csv('../data/channel_statistics.csv', index=False)\n",
    "        "
   ],
   "metadata": {
    "collapsed": false,
    "ExecuteTime": {
     "end_time": "2024-09-07T14:41:48.336929200Z",
     "start_time": "2024-09-07T14:41:48.321435800Z"
    }
   },
   "id": "c11a763ec64ac61f",
   "outputs": [],
   "execution_count": 8
  },
  {
   "cell_type": "code",
   "source": [
    "youtube_data(data)"
   ],
   "metadata": {
    "collapsed": false,
    "ExecuteTime": {
     "end_time": "2024-09-07T14:44:43.586294400Z",
     "start_time": "2024-09-07T14:44:31.708520500Z"
    }
   },
   "id": "41b7c83b0750e083",
   "outputs": [
    {
     "name": "stdout",
     "output_type": "stream",
     "text": [
      "Channel ID sidemen: No data found\n",
      "Channel ID juliusdein: No data found\n",
      "Channel ID liverpoolfc: No data found\n",
      "Channel ID sirhcchris2010: No data found\n",
      "Channel ID thedadlab: No data found\n"
     ]
    }
   ],
   "execution_count": 10
  },
  {
   "cell_type": "code",
   "outputs": [],
   "source": [],
   "metadata": {
    "collapsed": false
   },
   "id": "36daba7e97f6c319"
  }
 ],
 "metadata": {
  "kernelspec": {
   "display_name": "Python 3",
   "language": "python",
   "name": "python3"
  },
  "language_info": {
   "codemirror_mode": {
    "name": "ipython",
    "version": 2
   },
   "file_extension": ".py",
   "mimetype": "text/x-python",
   "name": "python",
   "nbconvert_exporter": "python",
   "pygments_lexer": "ipython2",
   "version": "2.7.6"
  }
 },
 "nbformat": 4,
 "nbformat_minor": 5
}
