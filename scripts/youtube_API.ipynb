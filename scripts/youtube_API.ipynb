{
 "cells": [
  {
   "metadata": {
    "ExecuteTime": {
     "end_time": "2024-09-06T18:52:14.878897Z",
     "start_time": "2024-09-06T18:52:04.518994Z"
    }
   },
   "cell_type": "code",
   "source": "!pip install google-api-python-client",
   "id": "a32e9180b090fa5e",
   "outputs": [
    {
     "name": "stdout",
     "output_type": "stream",
     "text": [
      "Collecting google-api-python-client\r\n",
      "  Obtaining dependency information for google-api-python-client from https://files.pythonhosted.org/packages/e6/53/4e109982df222687dea9e736499c69076d7d00699a14470ee281c5cf9eed/google_api_python_client-2.144.0-py2.py3-none-any.whl.metadata\r\n",
      "  Downloading google_api_python_client-2.144.0-py2.py3-none-any.whl.metadata (6.7 kB)\r\n",
      "Collecting httplib2<1.dev0,>=0.19.0 (from google-api-python-client)\r\n",
      "  Obtaining dependency information for httplib2<1.dev0,>=0.19.0 from https://files.pythonhosted.org/packages/a8/6c/d2fbdaaa5959339d53ba38e94c123e4e84b8fbc4b84beb0e70d7c1608486/httplib2-0.22.0-py3-none-any.whl.metadata\r\n",
      "  Downloading httplib2-0.22.0-py3-none-any.whl.metadata (2.6 kB)\r\n",
      "Requirement already satisfied: google-auth!=2.24.0,!=2.25.0,<3.0.0.dev0,>=1.32.0 in /home/asif/anaconda3/lib/python3.11/site-packages (from google-api-python-client) (2.25.2)\r\n",
      "Collecting google-auth-httplib2<1.0.0,>=0.2.0 (from google-api-python-client)\r\n",
      "  Obtaining dependency information for google-auth-httplib2<1.0.0,>=0.2.0 from https://files.pythonhosted.org/packages/be/8a/fe34d2f3f9470a27b01c9e76226965863f153d5fbe276f83608562e49c04/google_auth_httplib2-0.2.0-py2.py3-none-any.whl.metadata\r\n",
      "  Downloading google_auth_httplib2-0.2.0-py2.py3-none-any.whl.metadata (2.2 kB)\r\n",
      "Collecting google-api-core!=2.0.*,!=2.1.*,!=2.2.*,!=2.3.0,<3.0.0.dev0,>=1.31.5 (from google-api-python-client)\r\n",
      "  Obtaining dependency information for google-api-core!=2.0.*,!=2.1.*,!=2.2.*,!=2.3.0,<3.0.0.dev0,>=1.31.5 from https://files.pythonhosted.org/packages/79/53/2e340a6ed897fa2bdd6c1bf166b98c047fbb648463dfd2b209ca7d501984/google_api_core-2.19.2-py3-none-any.whl.metadata\r\n",
      "  Downloading google_api_core-2.19.2-py3-none-any.whl.metadata (2.7 kB)\r\n",
      "Requirement already satisfied: uritemplate<5,>=3.0.1 in /home/asif/anaconda3/lib/python3.11/site-packages (from google-api-python-client) (4.1.1)\r\n",
      "Requirement already satisfied: googleapis-common-protos<2.0.dev0,>=1.56.2 in /home/asif/anaconda3/lib/python3.11/site-packages (from google-api-core!=2.0.*,!=2.1.*,!=2.2.*,!=2.3.0,<3.0.0.dev0,>=1.31.5->google-api-python-client) (1.62.0)\r\n",
      "Requirement already satisfied: protobuf!=3.20.0,!=3.20.1,!=4.21.0,!=4.21.1,!=4.21.2,!=4.21.3,!=4.21.4,!=4.21.5,<6.0.0.dev0,>=3.19.5 in /home/asif/anaconda3/lib/python3.11/site-packages (from google-api-core!=2.0.*,!=2.1.*,!=2.2.*,!=2.3.0,<3.0.0.dev0,>=1.31.5->google-api-python-client) (4.25.1)\r\n",
      "Collecting proto-plus<2.0.0dev,>=1.22.3 (from google-api-core!=2.0.*,!=2.1.*,!=2.2.*,!=2.3.0,<3.0.0.dev0,>=1.31.5->google-api-python-client)\r\n",
      "  Obtaining dependency information for proto-plus<2.0.0dev,>=1.22.3 from https://files.pythonhosted.org/packages/7c/6f/db31f0711c0402aa477257205ce7d29e86a75cb52cd19f7afb585f75cda0/proto_plus-1.24.0-py3-none-any.whl.metadata\r\n",
      "  Downloading proto_plus-1.24.0-py3-none-any.whl.metadata (2.2 kB)\r\n",
      "Requirement already satisfied: requests<3.0.0.dev0,>=2.18.0 in /home/asif/anaconda3/lib/python3.11/site-packages (from google-api-core!=2.0.*,!=2.1.*,!=2.2.*,!=2.3.0,<3.0.0.dev0,>=1.31.5->google-api-python-client) (2.32.3)\r\n",
      "Requirement already satisfied: cachetools<6.0,>=2.0.0 in /home/asif/anaconda3/lib/python3.11/site-packages (from google-auth!=2.24.0,!=2.25.0,<3.0.0.dev0,>=1.32.0->google-api-python-client) (5.3.2)\r\n",
      "Requirement already satisfied: pyasn1-modules>=0.2.1 in /home/asif/anaconda3/lib/python3.11/site-packages (from google-auth!=2.24.0,!=2.25.0,<3.0.0.dev0,>=1.32.0->google-api-python-client) (0.3.0)\r\n",
      "Requirement already satisfied: rsa<5,>=3.1.4 in /home/asif/anaconda3/lib/python3.11/site-packages (from google-auth!=2.24.0,!=2.25.0,<3.0.0.dev0,>=1.32.0->google-api-python-client) (4.9)\r\n",
      "Requirement already satisfied: pyparsing!=3.0.0,!=3.0.1,!=3.0.2,!=3.0.3,<4,>=2.4.2 in /home/asif/anaconda3/lib/python3.11/site-packages (from httplib2<1.dev0,>=0.19.0->google-api-python-client) (3.0.9)\r\n",
      "Requirement already satisfied: pyasn1<0.6.0,>=0.4.6 in /home/asif/anaconda3/lib/python3.11/site-packages (from pyasn1-modules>=0.2.1->google-auth!=2.24.0,!=2.25.0,<3.0.0.dev0,>=1.32.0->google-api-python-client) (0.5.1)\r\n",
      "Requirement already satisfied: charset-normalizer<4,>=2 in /home/asif/anaconda3/lib/python3.11/site-packages (from requests<3.0.0.dev0,>=2.18.0->google-api-core!=2.0.*,!=2.1.*,!=2.2.*,!=2.3.0,<3.0.0.dev0,>=1.31.5->google-api-python-client) (3.3.2)\r\n",
      "Requirement already satisfied: idna<4,>=2.5 in /home/asif/anaconda3/lib/python3.11/site-packages (from requests<3.0.0.dev0,>=2.18.0->google-api-core!=2.0.*,!=2.1.*,!=2.2.*,!=2.3.0,<3.0.0.dev0,>=1.31.5->google-api-python-client) (3.6)\r\n",
      "Requirement already satisfied: urllib3<3,>=1.21.1 in /home/asif/anaconda3/lib/python3.11/site-packages (from requests<3.0.0.dev0,>=2.18.0->google-api-core!=2.0.*,!=2.1.*,!=2.2.*,!=2.3.0,<3.0.0.dev0,>=1.31.5->google-api-python-client) (2.1.0)\r\n",
      "Requirement already satisfied: certifi>=2017.4.17 in /home/asif/anaconda3/lib/python3.11/site-packages (from requests<3.0.0.dev0,>=2.18.0->google-api-core!=2.0.*,!=2.1.*,!=2.2.*,!=2.3.0,<3.0.0.dev0,>=1.31.5->google-api-python-client) (2023.11.17)\r\n",
      "Downloading google_api_python_client-2.144.0-py2.py3-none-any.whl (12.2 MB)\r\n",
      "\u001B[2K   \u001B[90m━━━━━━━━━━━━━━━━━━━━━━━━━━━━━━━━━━━━━━━━\u001B[0m \u001B[32m12.2/12.2 MB\u001B[0m \u001B[31m5.4 MB/s\u001B[0m eta \u001B[36m0:00:00\u001B[0m00:01\u001B[0m00:01\u001B[0m\r\n",
      "\u001B[?25hDownloading google_api_core-2.19.2-py3-none-any.whl (139 kB)\r\n",
      "\u001B[2K   \u001B[90m━━━━━━━━━━━━━━━━━━━━━━━━━━━━━━━━━━━━━━━━\u001B[0m \u001B[32m139.4/139.4 kB\u001B[0m \u001B[31m7.3 MB/s\u001B[0m eta \u001B[36m0:00:00\u001B[0m\r\n",
      "\u001B[?25hDownloading google_auth_httplib2-0.2.0-py2.py3-none-any.whl (9.3 kB)\r\n",
      "Downloading httplib2-0.22.0-py3-none-any.whl (96 kB)\r\n",
      "\u001B[2K   \u001B[90m━━━━━━━━━━━━━━━━━━━━━━━━━━━━━━━━━━━━━━━━\u001B[0m \u001B[32m96.9/96.9 kB\u001B[0m \u001B[31m7.5 MB/s\u001B[0m eta \u001B[36m0:00:00\u001B[0m\r\n",
      "\u001B[?25hDownloading proto_plus-1.24.0-py3-none-any.whl (50 kB)\r\n",
      "\u001B[2K   \u001B[90m━━━━━━━━━━━━━━━━━━━━━━━━━━━━━━━━━━━━━━━━\u001B[0m \u001B[32m50.1/50.1 kB\u001B[0m \u001B[31m6.8 MB/s\u001B[0m eta \u001B[36m0:00:00\u001B[0m\r\n",
      "\u001B[?25hInstalling collected packages: proto-plus, httplib2, google-auth-httplib2, google-api-core, google-api-python-client\r\n",
      "Successfully installed google-api-core-2.19.2 google-api-python-client-2.144.0 google-auth-httplib2-0.2.0 httplib2-0.22.0 proto-plus-1.24.0\r\n"
     ]
    }
   ],
   "execution_count": 1
  },
  {
   "cell_type": "code",
   "id": "initial_id",
   "metadata": {
    "collapsed": true,
    "ExecuteTime": {
     "end_time": "2024-09-06T19:05:48.756627Z",
     "start_time": "2024-09-06T19:05:48.751533Z"
    }
   },
   "source": [
    "import os \n",
    "import pandas as pd\n",
    "from dotenv import load_dotenv\n",
    "from googleapiclient.discovery import build\n",
    "load_dotenv()"
   ],
   "outputs": [
    {
     "data": {
      "text/plain": [
       "True"
      ]
     },
     "execution_count": 13,
     "metadata": {},
     "output_type": "execute_result"
    }
   ],
   "execution_count": 13
  },
  {
   "cell_type": "code",
   "source": [
    "#importing dataset\n",
    "data = pd.read_csv(\"../data/ytUK.csv\")"
   ],
   "metadata": {
    "collapsed": false,
    "ExecuteTime": {
     "end_time": "2024-09-06T19:05:34.670343Z",
     "start_time": "2024-09-06T19:05:34.665152Z"
    }
   },
   "id": "2b1cfe26bddcb96",
   "outputs": [],
   "execution_count": 12
  },
  {
   "cell_type": "code",
   "source": [
    "# Function for fetching necessary data from youtube\n",
    "\n",
    "def youtubeData(df):\n",
    "    api_key = os.getenv('API_KEY')\n",
    "    youtube = build('youtube', 'v3', developerKey=api_key)\n",
    "\n",
    "    # Initializing empty lists to store the results \n",
    "    subscriber_counts = []\n",
    "    total_views = []\n",
    "    video_counts = []\n",
    "    \n",
    "    # Looping through the DataFrame, extracting the channel Od and making API requests\n",
    "    for index, row in df.iterrows():\n",
    "        # Extract the channel ID after the '@'\n",
    "        channel_info = row['Name']\n",
    "        channel_id = channel_info.split('@')[1] if '@' in channel_info else None\n",
    "        \n",
    "        if channel_id:\n",
    "            #Define the parameters for the API request\n",
    "            request = youtube.channels().list(\n",
    "                part='snippet,contentDetails,statistics',\n",
    "                id=channel_id\n",
    "            )\n",
    "            try:\n",
    "                response = request.execute() # Executing the API request\n",
    "            \n",
    "                #  Extracting information from the response\n",
    "                if \"items\" in response and len(response[\"items\"]) > 0:\n",
    "                    channel_info = response[\"items\"][0]\n",
    "\n",
    "                    # Subscriber count, total views and video count\n",
    "                    subscriber_count = channel_info[\"statistics\"].get(\"subscriberCount\", \"Hidden\")\n",
    "                    total_view = channel_info[\"statistics\"].get(\"viewCount\", \"N/A\")\n",
    "                    video_count = channel_info[\"statistics\"].get(\"videoCount\", \"N/A\")\n",
    "                    \n",
    "                    # Appending the extracted data to the lists\n",
    "                    subscriber_counts.append(subscriber_count)\n",
    "                    total_views.append(total_view)\n",
    "                    video_counts.append(video_count)\n",
    "                else:\n",
    "                    print(f\"Channel ID {channel_id}: No data found\")\n",
    "                    subscriber_counts.append(\"N/A\")\n",
    "                    total_views.append(\"N/A\")\n",
    "                    video_counts.append(\"N/A\")\n",
    "            except Exception as e:\n",
    "                print(f\"Error fetching Data for channel ID {channel_id}: {str(e)}\")\n",
    "                subscriber_counts.append(\"N/A\")\n",
    "                total_views.append(\"N/A\")\n",
    "                video_counts.append(\"N/A\")\n",
    "        else:\n",
    "            # If channel ID is not found, append NA to lists\n",
    "            print(f\"No valid channel ID found for row {index}\")\n",
    "            subscriber_counts.append(\"N/A\")\n",
    "            total_views.append(\"N/A\")\n",
    "            video_counts.append(\"N/A\")\n",
    "            \n",
    "    # Adding the extracted data to the DataFrame\n",
    "    data['Subscribers'] = subscriber_counts\n",
    "    data['TotalViews'] = total_views\n",
    "    data['TotalVideos'] = video_counts\n",
    "    \n",
    "    # Saving the updated Dataframe in csv format\n",
    "    df.to_csv('../data/Channel_statistics2.csv', index=False)\n",
    "        "
   ],
   "metadata": {
    "collapsed": false,
    "ExecuteTime": {
     "end_time": "2024-09-06T19:08:12.134421Z",
     "start_time": "2024-09-06T19:08:12.126495Z"
    }
   },
   "id": "c11a763ec64ac61f",
   "outputs": [],
   "execution_count": 15
  },
  {
   "cell_type": "code",
   "source": [
    "youtubeData(data)"
   ],
   "metadata": {
    "collapsed": false,
    "ExecuteTime": {
     "end_time": "2024-09-06T19:08:24.234911Z",
     "start_time": "2024-09-06T19:08:14.654857Z"
    }
   },
   "id": "41b7c83b0750e083",
   "outputs": [
    {
     "name": "stdout",
     "output_type": "stream",
     "text": [
      "Channel ID sidemen: No data found\n",
      "Channel ID juliusdein: No data found\n",
      "Channel ID liverpoolfc: No data found\n",
      "Channel ID sirhcchris2010: No data found\n",
      "Channel ID thedadlab: No data found\n"
     ]
    }
   ],
   "execution_count": 16
  }
 ],
 "metadata": {
  "kernelspec": {
   "display_name": "Python 3",
   "language": "python",
   "name": "python3"
  },
  "language_info": {
   "codemirror_mode": {
    "name": "ipython",
    "version": 2
   },
   "file_extension": ".py",
   "mimetype": "text/x-python",
   "name": "python",
   "nbconvert_exporter": "python",
   "pygments_lexer": "ipython2",
   "version": "2.7.6"
  }
 },
 "nbformat": 4,
 "nbformat_minor": 5
}
